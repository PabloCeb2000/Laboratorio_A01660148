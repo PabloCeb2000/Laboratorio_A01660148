{
 "cells": [
  {
   "cell_type": "markdown",
   "metadata": {
    "id": "-_fU1XmWu9Zp"
   },
   "source": [
    "# Actividad 4. Mapas de calor y boxplots \n",
    "## Datos: \"Tweets covid19\"\n"
   ]
  },
  {
   "cell_type": "markdown",
   "metadata": {
    "id": "SPhOCFxuB9Q0"
   },
   "source": [
    "## Obtención de datos con Pandas"
   ]
  },
  {
   "cell_type": "code",
   "execution_count": 2,
   "metadata": {
    "id": "rLEuD8fcb-h6"
   },
   "outputs": [],
   "source": [
    "import pandas as pd\n",
    "import matplotlib.pyplot as plt\n",
    "from sklearn.cluster import KMeans\n",
    "import numpy as np"
   ]
  },
  {
   "cell_type": "code",
   "execution_count": 3,
   "metadata": {
    "colab": {
     "base_uri": "https://localhost:8080/",
     "height": 441
    },
    "id": "5Bi9XXiNNA2l",
    "outputId": "2193647d-51d8-432d-c402-b551acfb37c7"
   },
   "outputs": [
    {
     "data": {
      "text/html": [
       "<div>\n",
       "<style scoped>\n",
       "    .dataframe tbody tr th:only-of-type {\n",
       "        vertical-align: middle;\n",
       "    }\n",
       "\n",
       "    .dataframe tbody tr th {\n",
       "        vertical-align: top;\n",
       "    }\n",
       "\n",
       "    .dataframe thead th {\n",
       "        text-align: right;\n",
       "    }\n",
       "</style>\n",
       "<table border=\"1\" class=\"dataframe\">\n",
       "  <thead>\n",
       "    <tr style=\"text-align: right;\">\n",
       "      <th></th>\n",
       "      <th>user_name</th>\n",
       "      <th>user_location</th>\n",
       "      <th>user_description</th>\n",
       "      <th>user_created</th>\n",
       "      <th>user_followers</th>\n",
       "      <th>user_friends</th>\n",
       "      <th>user_favourites</th>\n",
       "      <th>user_verified</th>\n",
       "      <th>date</th>\n",
       "      <th>text</th>\n",
       "      <th>hashtags</th>\n",
       "      <th>source</th>\n",
       "      <th>is_retweet</th>\n",
       "    </tr>\n",
       "  </thead>\n",
       "  <tbody>\n",
       "    <tr>\n",
       "      <th>0</th>\n",
       "      <td>ᏉᎥ☻լꂅϮ</td>\n",
       "      <td>astroworld</td>\n",
       "      <td>wednesday addams as a disney princess keepin i...</td>\n",
       "      <td>2017-05-26 05:46:42</td>\n",
       "      <td>624</td>\n",
       "      <td>950</td>\n",
       "      <td>18775</td>\n",
       "      <td>False</td>\n",
       "      <td>2020-07-25 12:27:21</td>\n",
       "      <td>If I smelled the scent of hand sanitizers toda...</td>\n",
       "      <td>NaN</td>\n",
       "      <td>Twitter for iPhone</td>\n",
       "      <td>False</td>\n",
       "    </tr>\n",
       "    <tr>\n",
       "      <th>1</th>\n",
       "      <td>Tom Basile 🇺🇸</td>\n",
       "      <td>New York, NY</td>\n",
       "      <td>Husband, Father, Columnist &amp; Commentator. Auth...</td>\n",
       "      <td>2009-04-16 20:06:23</td>\n",
       "      <td>2253</td>\n",
       "      <td>1677</td>\n",
       "      <td>24</td>\n",
       "      <td>True</td>\n",
       "      <td>2020-07-25 12:27:17</td>\n",
       "      <td>Hey @Yankees @YankeesPR and @MLB - wouldn't it...</td>\n",
       "      <td>NaN</td>\n",
       "      <td>Twitter for Android</td>\n",
       "      <td>False</td>\n",
       "    </tr>\n",
       "    <tr>\n",
       "      <th>2</th>\n",
       "      <td>Time4fisticuffs</td>\n",
       "      <td>Pewee Valley, KY</td>\n",
       "      <td>#Christian #Catholic #Conservative #Reagan #Re...</td>\n",
       "      <td>2009-02-28 18:57:41</td>\n",
       "      <td>9275</td>\n",
       "      <td>9525</td>\n",
       "      <td>7254</td>\n",
       "      <td>False</td>\n",
       "      <td>2020-07-25 12:27:14</td>\n",
       "      <td>@diane3443 @wdunlap @realDonaldTrump Trump nev...</td>\n",
       "      <td>['COVID19']</td>\n",
       "      <td>Twitter for Android</td>\n",
       "      <td>False</td>\n",
       "    </tr>\n",
       "    <tr>\n",
       "      <th>3</th>\n",
       "      <td>ethel mertz</td>\n",
       "      <td>Stuck in the Middle</td>\n",
       "      <td>#Browns #Indians #ClevelandProud #[]_[] #Cavs ...</td>\n",
       "      <td>2019-03-07 01:45:06</td>\n",
       "      <td>197</td>\n",
       "      <td>987</td>\n",
       "      <td>1488</td>\n",
       "      <td>False</td>\n",
       "      <td>2020-07-25 12:27:10</td>\n",
       "      <td>@brookbanktv The one gift #COVID19 has give me...</td>\n",
       "      <td>['COVID19']</td>\n",
       "      <td>Twitter for iPhone</td>\n",
       "      <td>False</td>\n",
       "    </tr>\n",
       "    <tr>\n",
       "      <th>4</th>\n",
       "      <td>DIPR-J&amp;K</td>\n",
       "      <td>Jammu and Kashmir</td>\n",
       "      <td>🖊️Official Twitter handle of Department of Inf...</td>\n",
       "      <td>2017-02-12 06:45:15</td>\n",
       "      <td>101009</td>\n",
       "      <td>168</td>\n",
       "      <td>101</td>\n",
       "      <td>False</td>\n",
       "      <td>2020-07-25 12:27:08</td>\n",
       "      <td>25 July : Media Bulletin on Novel #CoronaVirus...</td>\n",
       "      <td>['CoronaVirusUpdates', 'COVID19']</td>\n",
       "      <td>Twitter for Android</td>\n",
       "      <td>False</td>\n",
       "    </tr>\n",
       "    <tr>\n",
       "      <th>...</th>\n",
       "      <td>...</td>\n",
       "      <td>...</td>\n",
       "      <td>...</td>\n",
       "      <td>...</td>\n",
       "      <td>...</td>\n",
       "      <td>...</td>\n",
       "      <td>...</td>\n",
       "      <td>...</td>\n",
       "      <td>...</td>\n",
       "      <td>...</td>\n",
       "      <td>...</td>\n",
       "      <td>...</td>\n",
       "      <td>...</td>\n",
       "    </tr>\n",
       "    <tr>\n",
       "      <th>74431</th>\n",
       "      <td>Laura Wolfrom</td>\n",
       "      <td>Lexington, KY</td>\n",
       "      <td>The only things I collect are memories.</td>\n",
       "      <td>2010-09-24 02:01:15</td>\n",
       "      <td>85</td>\n",
       "      <td>586</td>\n",
       "      <td>1902</td>\n",
       "      <td>False</td>\n",
       "      <td>2020-08-04 03:13:29</td>\n",
       "      <td>So far this summer I have filled up my lawn mo...</td>\n",
       "      <td>['COVID19', 'QuarantineLife']</td>\n",
       "      <td>Twitter for iPhone</td>\n",
       "      <td>False</td>\n",
       "    </tr>\n",
       "    <tr>\n",
       "      <th>74432</th>\n",
       "      <td>Professor Tonya M. Evans</td>\n",
       "      <td>😷 #stayathome</td>\n",
       "      <td>Law Prof @DickinsonLaw &amp; Entrepreneur | Crypto...</td>\n",
       "      <td>2013-05-14 20:15:24</td>\n",
       "      <td>4289</td>\n",
       "      <td>1066</td>\n",
       "      <td>53569</td>\n",
       "      <td>False</td>\n",
       "      <td>2020-08-04 03:13:26</td>\n",
       "      <td>ICYMI: REPLAY: #TechIntersect🧩 #16: Isaiah \"@B...</td>\n",
       "      <td>['TechIntersect', 'Bitcoin', 'COVID19']</td>\n",
       "      <td>Twitter Web App</td>\n",
       "      <td>False</td>\n",
       "    </tr>\n",
       "    <tr>\n",
       "      <th>74433</th>\n",
       "      <td>People's Daily app</td>\n",
       "      <td>北京, 中华人民共和国</td>\n",
       "      <td>Our mission is to provide news and perspective...</td>\n",
       "      <td>2018-02-04 12:36:42</td>\n",
       "      <td>1413</td>\n",
       "      <td>102</td>\n",
       "      <td>16</td>\n",
       "      <td>False</td>\n",
       "      <td>2020-08-04 03:13:22</td>\n",
       "      <td>Community workers in Tianshan District of Urum...</td>\n",
       "      <td>['China', 'Xinjiang']</td>\n",
       "      <td>Twitter Web App</td>\n",
       "      <td>False</td>\n",
       "    </tr>\n",
       "    <tr>\n",
       "      <th>74434</th>\n",
       "      <td>M0ser</td>\n",
       "      <td>NaN</td>\n",
       "      <td>Reagan conservative and attorney raised in the...</td>\n",
       "      <td>2014-02-18 03:46:28</td>\n",
       "      <td>2554</td>\n",
       "      <td>1733</td>\n",
       "      <td>129104</td>\n",
       "      <td>False</td>\n",
       "      <td>2020-08-04 03:13:19</td>\n",
       "      <td>If only we had a responsible media to warn us ...</td>\n",
       "      <td>['COVID19']</td>\n",
       "      <td>Twitter for iPhone</td>\n",
       "      <td>False</td>\n",
       "    </tr>\n",
       "    <tr>\n",
       "      <th>74435</th>\n",
       "      <td>Your Friend &amp; Sabre ⚔️</td>\n",
       "      <td>Chicago, IL</td>\n",
       "      <td>My spectral decomposition has a significant da...</td>\n",
       "      <td>2016-12-19 19:55:00</td>\n",
       "      <td>310</td>\n",
       "      <td>1748</td>\n",
       "      <td>60133</td>\n",
       "      <td>False</td>\n",
       "      <td>2020-08-04 03:13:15</td>\n",
       "      <td>MAGA: #COVID19 is just a cold &amp;amp; it'd be go...</td>\n",
       "      <td>['COVID19', 'Hydroxycholoroquine']</td>\n",
       "      <td>Twitter for Android</td>\n",
       "      <td>False</td>\n",
       "    </tr>\n",
       "  </tbody>\n",
       "</table>\n",
       "<p>74436 rows × 13 columns</p>\n",
       "</div>"
      ],
      "text/plain": [
       "                      user_name         user_location  \\\n",
       "0                        ᏉᎥ☻լꂅϮ            astroworld   \n",
       "1                 Tom Basile 🇺🇸          New York, NY   \n",
       "2               Time4fisticuffs      Pewee Valley, KY   \n",
       "3                   ethel mertz  Stuck in the Middle    \n",
       "4                      DIPR-J&K     Jammu and Kashmir   \n",
       "...                         ...                   ...   \n",
       "74431             Laura Wolfrom         Lexington, KY   \n",
       "74432  Professor Tonya M. Evans         😷 #stayathome   \n",
       "74433        People's Daily app           北京, 中华人民共和国   \n",
       "74434                     M0ser                   NaN   \n",
       "74435    Your Friend & Sabre ⚔️           Chicago, IL   \n",
       "\n",
       "                                        user_description         user_created  \\\n",
       "0      wednesday addams as a disney princess keepin i...  2017-05-26 05:46:42   \n",
       "1      Husband, Father, Columnist & Commentator. Auth...  2009-04-16 20:06:23   \n",
       "2      #Christian #Catholic #Conservative #Reagan #Re...  2009-02-28 18:57:41   \n",
       "3      #Browns #Indians #ClevelandProud #[]_[] #Cavs ...  2019-03-07 01:45:06   \n",
       "4      🖊️Official Twitter handle of Department of Inf...  2017-02-12 06:45:15   \n",
       "...                                                  ...                  ...   \n",
       "74431            The only things I collect are memories.  2010-09-24 02:01:15   \n",
       "74432  Law Prof @DickinsonLaw & Entrepreneur | Crypto...  2013-05-14 20:15:24   \n",
       "74433  Our mission is to provide news and perspective...  2018-02-04 12:36:42   \n",
       "74434  Reagan conservative and attorney raised in the...  2014-02-18 03:46:28   \n",
       "74435  My spectral decomposition has a significant da...  2016-12-19 19:55:00   \n",
       "\n",
       "       user_followers  user_friends  user_favourites  user_verified  \\\n",
       "0                 624           950            18775          False   \n",
       "1                2253          1677               24           True   \n",
       "2                9275          9525             7254          False   \n",
       "3                 197           987             1488          False   \n",
       "4              101009           168              101          False   \n",
       "...               ...           ...              ...            ...   \n",
       "74431              85           586             1902          False   \n",
       "74432            4289          1066            53569          False   \n",
       "74433            1413           102               16          False   \n",
       "74434            2554          1733           129104          False   \n",
       "74435             310          1748            60133          False   \n",
       "\n",
       "                      date                                               text  \\\n",
       "0      2020-07-25 12:27:21  If I smelled the scent of hand sanitizers toda...   \n",
       "1      2020-07-25 12:27:17  Hey @Yankees @YankeesPR and @MLB - wouldn't it...   \n",
       "2      2020-07-25 12:27:14  @diane3443 @wdunlap @realDonaldTrump Trump nev...   \n",
       "3      2020-07-25 12:27:10  @brookbanktv The one gift #COVID19 has give me...   \n",
       "4      2020-07-25 12:27:08  25 July : Media Bulletin on Novel #CoronaVirus...   \n",
       "...                    ...                                                ...   \n",
       "74431  2020-08-04 03:13:29  So far this summer I have filled up my lawn mo...   \n",
       "74432  2020-08-04 03:13:26  ICYMI: REPLAY: #TechIntersect🧩 #16: Isaiah \"@B...   \n",
       "74433  2020-08-04 03:13:22  Community workers in Tianshan District of Urum...   \n",
       "74434  2020-08-04 03:13:19  If only we had a responsible media to warn us ...   \n",
       "74435  2020-08-04 03:13:15  MAGA: #COVID19 is just a cold &amp; it'd be go...   \n",
       "\n",
       "                                      hashtags               source  \\\n",
       "0                                          NaN   Twitter for iPhone   \n",
       "1                                          NaN  Twitter for Android   \n",
       "2                                  ['COVID19']  Twitter for Android   \n",
       "3                                  ['COVID19']   Twitter for iPhone   \n",
       "4            ['CoronaVirusUpdates', 'COVID19']  Twitter for Android   \n",
       "...                                        ...                  ...   \n",
       "74431            ['COVID19', 'QuarantineLife']   Twitter for iPhone   \n",
       "74432  ['TechIntersect', 'Bitcoin', 'COVID19']      Twitter Web App   \n",
       "74433                    ['China', 'Xinjiang']      Twitter Web App   \n",
       "74434                              ['COVID19']   Twitter for iPhone   \n",
       "74435       ['COVID19', 'Hydroxycholoroquine']  Twitter for Android   \n",
       "\n",
       "       is_retweet  \n",
       "0           False  \n",
       "1           False  \n",
       "2           False  \n",
       "3           False  \n",
       "4           False  \n",
       "...           ...  \n",
       "74431       False  \n",
       "74432       False  \n",
       "74433       False  \n",
       "74434       False  \n",
       "74435       False  \n",
       "\n",
       "[74436 rows x 13 columns]"
      ]
     },
     "execution_count": 3,
     "metadata": {},
     "output_type": "execute_result"
    }
   ],
   "source": [
    "df2=pd.read_csv(\"covid19_tweets.csv\")\n",
    "df2"
   ]
  },
  {
   "cell_type": "code",
   "execution_count": 14,
   "metadata": {
    "colab": {
     "base_uri": "https://localhost:8080/",
     "height": 206
    },
    "id": "4scUTNB6Ni3q",
    "outputId": "3debaff3-a9a3-4de1-8422-210760e96052"
   },
   "outputs": [
    {
     "data": {
      "text/html": [
       "<div>\n",
       "<style scoped>\n",
       "    .dataframe tbody tr th:only-of-type {\n",
       "        vertical-align: middle;\n",
       "    }\n",
       "\n",
       "    .dataframe tbody tr th {\n",
       "        vertical-align: top;\n",
       "    }\n",
       "\n",
       "    .dataframe thead th {\n",
       "        text-align: right;\n",
       "    }\n",
       "</style>\n",
       "<table border=\"1\" class=\"dataframe\">\n",
       "  <thead>\n",
       "    <tr style=\"text-align: right;\">\n",
       "      <th></th>\n",
       "      <th>user_name</th>\n",
       "      <th>user_location</th>\n",
       "      <th>user_description</th>\n",
       "      <th>user_created</th>\n",
       "      <th>user_followers</th>\n",
       "      <th>user_friends</th>\n",
       "      <th>user_favourites</th>\n",
       "      <th>user_verified</th>\n",
       "      <th>date</th>\n",
       "      <th>text</th>\n",
       "      <th>hashtags</th>\n",
       "      <th>source</th>\n",
       "      <th>is_retweet</th>\n",
       "    </tr>\n",
       "  </thead>\n",
       "  <tbody>\n",
       "    <tr>\n",
       "      <th>0</th>\n",
       "      <td>ᏉᎥ☻լꂅϮ</td>\n",
       "      <td>astroworld</td>\n",
       "      <td>wednesday addams as a disney princess keepin i...</td>\n",
       "      <td>2017-05-26 05:46:42</td>\n",
       "      <td>624</td>\n",
       "      <td>950</td>\n",
       "      <td>18775</td>\n",
       "      <td>False</td>\n",
       "      <td>2020-07-25 12:27:21</td>\n",
       "      <td>If I smelled the scent of hand sanitizers toda...</td>\n",
       "      <td>NaN</td>\n",
       "      <td>Twitter for iPhone</td>\n",
       "      <td>False</td>\n",
       "    </tr>\n",
       "    <tr>\n",
       "      <th>1</th>\n",
       "      <td>Tom Basile 🇺🇸</td>\n",
       "      <td>New York, NY</td>\n",
       "      <td>Husband, Father, Columnist &amp; Commentator. Auth...</td>\n",
       "      <td>2009-04-16 20:06:23</td>\n",
       "      <td>2253</td>\n",
       "      <td>1677</td>\n",
       "      <td>24</td>\n",
       "      <td>True</td>\n",
       "      <td>2020-07-25 12:27:17</td>\n",
       "      <td>Hey @Yankees @YankeesPR and @MLB - wouldn't it...</td>\n",
       "      <td>NaN</td>\n",
       "      <td>Twitter for Android</td>\n",
       "      <td>False</td>\n",
       "    </tr>\n",
       "    <tr>\n",
       "      <th>2</th>\n",
       "      <td>Time4fisticuffs</td>\n",
       "      <td>Pewee Valley, KY</td>\n",
       "      <td>#Christian #Catholic #Conservative #Reagan #Re...</td>\n",
       "      <td>2009-02-28 18:57:41</td>\n",
       "      <td>9275</td>\n",
       "      <td>9525</td>\n",
       "      <td>7254</td>\n",
       "      <td>False</td>\n",
       "      <td>2020-07-25 12:27:14</td>\n",
       "      <td>@diane3443 @wdunlap @realDonaldTrump Trump nev...</td>\n",
       "      <td>['COVID19']</td>\n",
       "      <td>Twitter for Android</td>\n",
       "      <td>False</td>\n",
       "    </tr>\n",
       "    <tr>\n",
       "      <th>3</th>\n",
       "      <td>ethel mertz</td>\n",
       "      <td>Stuck in the Middle</td>\n",
       "      <td>#Browns #Indians #ClevelandProud #[]_[] #Cavs ...</td>\n",
       "      <td>2019-03-07 01:45:06</td>\n",
       "      <td>197</td>\n",
       "      <td>987</td>\n",
       "      <td>1488</td>\n",
       "      <td>False</td>\n",
       "      <td>2020-07-25 12:27:10</td>\n",
       "      <td>@brookbanktv The one gift #COVID19 has give me...</td>\n",
       "      <td>['COVID19']</td>\n",
       "      <td>Twitter for iPhone</td>\n",
       "      <td>False</td>\n",
       "    </tr>\n",
       "    <tr>\n",
       "      <th>4</th>\n",
       "      <td>DIPR-J&amp;K</td>\n",
       "      <td>Jammu and Kashmir</td>\n",
       "      <td>🖊️Official Twitter handle of Department of Inf...</td>\n",
       "      <td>2017-02-12 06:45:15</td>\n",
       "      <td>101009</td>\n",
       "      <td>168</td>\n",
       "      <td>101</td>\n",
       "      <td>False</td>\n",
       "      <td>2020-07-25 12:27:08</td>\n",
       "      <td>25 July : Media Bulletin on Novel #CoronaVirus...</td>\n",
       "      <td>['CoronaVirusUpdates', 'COVID19']</td>\n",
       "      <td>Twitter for Android</td>\n",
       "      <td>False</td>\n",
       "    </tr>\n",
       "  </tbody>\n",
       "</table>\n",
       "</div>"
      ],
      "text/plain": [
       "         user_name         user_location  \\\n",
       "0           ᏉᎥ☻լꂅϮ            astroworld   \n",
       "1    Tom Basile 🇺🇸          New York, NY   \n",
       "2  Time4fisticuffs      Pewee Valley, KY   \n",
       "3      ethel mertz  Stuck in the Middle    \n",
       "4         DIPR-J&K     Jammu and Kashmir   \n",
       "\n",
       "                                    user_description         user_created  \\\n",
       "0  wednesday addams as a disney princess keepin i...  2017-05-26 05:46:42   \n",
       "1  Husband, Father, Columnist & Commentator. Auth...  2009-04-16 20:06:23   \n",
       "2  #Christian #Catholic #Conservative #Reagan #Re...  2009-02-28 18:57:41   \n",
       "3  #Browns #Indians #ClevelandProud #[]_[] #Cavs ...  2019-03-07 01:45:06   \n",
       "4  🖊️Official Twitter handle of Department of Inf...  2017-02-12 06:45:15   \n",
       "\n",
       "   user_followers  user_friends  user_favourites  user_verified  \\\n",
       "0             624           950            18775          False   \n",
       "1            2253          1677               24           True   \n",
       "2            9275          9525             7254          False   \n",
       "3             197           987             1488          False   \n",
       "4          101009           168              101          False   \n",
       "\n",
       "                  date                                               text  \\\n",
       "0  2020-07-25 12:27:21  If I smelled the scent of hand sanitizers toda...   \n",
       "1  2020-07-25 12:27:17  Hey @Yankees @YankeesPR and @MLB - wouldn't it...   \n",
       "2  2020-07-25 12:27:14  @diane3443 @wdunlap @realDonaldTrump Trump nev...   \n",
       "3  2020-07-25 12:27:10  @brookbanktv The one gift #COVID19 has give me...   \n",
       "4  2020-07-25 12:27:08  25 July : Media Bulletin on Novel #CoronaVirus...   \n",
       "\n",
       "                            hashtags               source  is_retweet  \n",
       "0                                NaN   Twitter for iPhone       False  \n",
       "1                                NaN  Twitter for Android       False  \n",
       "2                        ['COVID19']  Twitter for Android       False  \n",
       "3                        ['COVID19']   Twitter for iPhone       False  \n",
       "4  ['CoronaVirusUpdates', 'COVID19']  Twitter for Android       False  "
      ]
     },
     "execution_count": 14,
     "metadata": {},
     "output_type": "execute_result"
    }
   ],
   "source": [
    "df2.head()"
   ]
  },
  {
   "cell_type": "code",
   "execution_count": 15,
   "metadata": {
    "id": "64gcK2GWNrls"
   },
   "outputs": [
    {
     "data": {
      "text/html": [
       "<div>\n",
       "<style scoped>\n",
       "    .dataframe tbody tr th:only-of-type {\n",
       "        vertical-align: middle;\n",
       "    }\n",
       "\n",
       "    .dataframe tbody tr th {\n",
       "        vertical-align: top;\n",
       "    }\n",
       "\n",
       "    .dataframe thead th {\n",
       "        text-align: right;\n",
       "    }\n",
       "</style>\n",
       "<table border=\"1\" class=\"dataframe\">\n",
       "  <thead>\n",
       "    <tr style=\"text-align: right;\">\n",
       "      <th></th>\n",
       "      <th>user_name</th>\n",
       "      <th>user_location</th>\n",
       "      <th>user_description</th>\n",
       "      <th>user_created</th>\n",
       "      <th>user_followers</th>\n",
       "      <th>user_friends</th>\n",
       "      <th>user_favourites</th>\n",
       "      <th>user_verified</th>\n",
       "      <th>date</th>\n",
       "      <th>text</th>\n",
       "      <th>hashtags</th>\n",
       "      <th>source</th>\n",
       "      <th>is_retweet</th>\n",
       "    </tr>\n",
       "  </thead>\n",
       "  <tbody>\n",
       "    <tr>\n",
       "      <th>74431</th>\n",
       "      <td>Laura Wolfrom</td>\n",
       "      <td>Lexington, KY</td>\n",
       "      <td>The only things I collect are memories.</td>\n",
       "      <td>2010-09-24 02:01:15</td>\n",
       "      <td>85</td>\n",
       "      <td>586</td>\n",
       "      <td>1902</td>\n",
       "      <td>False</td>\n",
       "      <td>2020-08-04 03:13:29</td>\n",
       "      <td>So far this summer I have filled up my lawn mo...</td>\n",
       "      <td>['COVID19', 'QuarantineLife']</td>\n",
       "      <td>Twitter for iPhone</td>\n",
       "      <td>False</td>\n",
       "    </tr>\n",
       "    <tr>\n",
       "      <th>74432</th>\n",
       "      <td>Professor Tonya M. Evans</td>\n",
       "      <td>😷 #stayathome</td>\n",
       "      <td>Law Prof @DickinsonLaw &amp; Entrepreneur | Crypto...</td>\n",
       "      <td>2013-05-14 20:15:24</td>\n",
       "      <td>4289</td>\n",
       "      <td>1066</td>\n",
       "      <td>53569</td>\n",
       "      <td>False</td>\n",
       "      <td>2020-08-04 03:13:26</td>\n",
       "      <td>ICYMI: REPLAY: #TechIntersect🧩 #16: Isaiah \"@B...</td>\n",
       "      <td>['TechIntersect', 'Bitcoin', 'COVID19']</td>\n",
       "      <td>Twitter Web App</td>\n",
       "      <td>False</td>\n",
       "    </tr>\n",
       "    <tr>\n",
       "      <th>74433</th>\n",
       "      <td>People's Daily app</td>\n",
       "      <td>北京, 中华人民共和国</td>\n",
       "      <td>Our mission is to provide news and perspective...</td>\n",
       "      <td>2018-02-04 12:36:42</td>\n",
       "      <td>1413</td>\n",
       "      <td>102</td>\n",
       "      <td>16</td>\n",
       "      <td>False</td>\n",
       "      <td>2020-08-04 03:13:22</td>\n",
       "      <td>Community workers in Tianshan District of Urum...</td>\n",
       "      <td>['China', 'Xinjiang']</td>\n",
       "      <td>Twitter Web App</td>\n",
       "      <td>False</td>\n",
       "    </tr>\n",
       "    <tr>\n",
       "      <th>74434</th>\n",
       "      <td>M0ser</td>\n",
       "      <td>NaN</td>\n",
       "      <td>Reagan conservative and attorney raised in the...</td>\n",
       "      <td>2014-02-18 03:46:28</td>\n",
       "      <td>2554</td>\n",
       "      <td>1733</td>\n",
       "      <td>129104</td>\n",
       "      <td>False</td>\n",
       "      <td>2020-08-04 03:13:19</td>\n",
       "      <td>If only we had a responsible media to warn us ...</td>\n",
       "      <td>['COVID19']</td>\n",
       "      <td>Twitter for iPhone</td>\n",
       "      <td>False</td>\n",
       "    </tr>\n",
       "    <tr>\n",
       "      <th>74435</th>\n",
       "      <td>Your Friend &amp; Sabre ⚔️</td>\n",
       "      <td>Chicago, IL</td>\n",
       "      <td>My spectral decomposition has a significant da...</td>\n",
       "      <td>2016-12-19 19:55:00</td>\n",
       "      <td>310</td>\n",
       "      <td>1748</td>\n",
       "      <td>60133</td>\n",
       "      <td>False</td>\n",
       "      <td>2020-08-04 03:13:15</td>\n",
       "      <td>MAGA: #COVID19 is just a cold &amp;amp; it'd be go...</td>\n",
       "      <td>['COVID19', 'Hydroxycholoroquine']</td>\n",
       "      <td>Twitter for Android</td>\n",
       "      <td>False</td>\n",
       "    </tr>\n",
       "  </tbody>\n",
       "</table>\n",
       "</div>"
      ],
      "text/plain": [
       "                      user_name  user_location  \\\n",
       "74431             Laura Wolfrom  Lexington, KY   \n",
       "74432  Professor Tonya M. Evans  😷 #stayathome   \n",
       "74433        People's Daily app    北京, 中华人民共和国   \n",
       "74434                     M0ser            NaN   \n",
       "74435    Your Friend & Sabre ⚔️    Chicago, IL   \n",
       "\n",
       "                                        user_description         user_created  \\\n",
       "74431            The only things I collect are memories.  2010-09-24 02:01:15   \n",
       "74432  Law Prof @DickinsonLaw & Entrepreneur | Crypto...  2013-05-14 20:15:24   \n",
       "74433  Our mission is to provide news and perspective...  2018-02-04 12:36:42   \n",
       "74434  Reagan conservative and attorney raised in the...  2014-02-18 03:46:28   \n",
       "74435  My spectral decomposition has a significant da...  2016-12-19 19:55:00   \n",
       "\n",
       "       user_followers  user_friends  user_favourites  user_verified  \\\n",
       "74431              85           586             1902          False   \n",
       "74432            4289          1066            53569          False   \n",
       "74433            1413           102               16          False   \n",
       "74434            2554          1733           129104          False   \n",
       "74435             310          1748            60133          False   \n",
       "\n",
       "                      date                                               text  \\\n",
       "74431  2020-08-04 03:13:29  So far this summer I have filled up my lawn mo...   \n",
       "74432  2020-08-04 03:13:26  ICYMI: REPLAY: #TechIntersect🧩 #16: Isaiah \"@B...   \n",
       "74433  2020-08-04 03:13:22  Community workers in Tianshan District of Urum...   \n",
       "74434  2020-08-04 03:13:19  If only we had a responsible media to warn us ...   \n",
       "74435  2020-08-04 03:13:15  MAGA: #COVID19 is just a cold &amp; it'd be go...   \n",
       "\n",
       "                                      hashtags               source  \\\n",
       "74431            ['COVID19', 'QuarantineLife']   Twitter for iPhone   \n",
       "74432  ['TechIntersect', 'Bitcoin', 'COVID19']      Twitter Web App   \n",
       "74433                    ['China', 'Xinjiang']      Twitter Web App   \n",
       "74434                              ['COVID19']   Twitter for iPhone   \n",
       "74435       ['COVID19', 'Hydroxycholoroquine']  Twitter for Android   \n",
       "\n",
       "       is_retweet  \n",
       "74431       False  \n",
       "74432       False  \n",
       "74433       False  \n",
       "74434       False  \n",
       "74435       False  "
      ]
     },
     "execution_count": 15,
     "metadata": {},
     "output_type": "execute_result"
    }
   ],
   "source": [
    "df2.tail()"
   ]
  },
  {
   "cell_type": "code",
   "execution_count": 16,
   "metadata": {
    "colab": {
     "base_uri": "https://localhost:8080/"
    },
    "id": "sKeSQQxBSUTb",
    "outputId": "a8e192b2-c176-4c97-bd83-0e51ec2ae391"
   },
   "outputs": [
    {
     "data": {
      "text/plain": [
       "Index(['user_name', 'user_location', 'user_description', 'user_created',\n",
       "       'user_followers', 'user_friends', 'user_favourites', 'user_verified',\n",
       "       'date', 'text', 'hashtags', 'source', 'is_retweet'],\n",
       "      dtype='object')"
      ]
     },
     "execution_count": 16,
     "metadata": {},
     "output_type": "execute_result"
    }
   ],
   "source": [
    "df2.columns"
   ]
  },
  {
   "cell_type": "code",
   "execution_count": 18,
   "metadata": {
    "colab": {
     "base_uri": "https://localhost:8080/"
    },
    "id": "_orMRL1ySZ1-",
    "outputId": "5608187e-736a-4c47-f6bc-5181cd7e2261"
   },
   "outputs": [
    {
     "data": {
      "text/plain": [
       "RangeIndex(start=0, stop=74436, step=1)"
      ]
     },
     "execution_count": 18,
     "metadata": {},
     "output_type": "execute_result"
    }
   ],
   "source": [
    "df2.index"
   ]
  },
  {
   "cell_type": "code",
   "execution_count": 19,
   "metadata": {
    "colab": {
     "base_uri": "https://localhost:8080/"
    },
    "id": "nOfRAn-oSev9",
    "outputId": "8e9da4bb-811d-45f8-f9f9-1f29ea1ddc35"
   },
   "outputs": [
    {
     "data": {
      "text/plain": [
       "<bound method NDFrame.describe of                       user_name         user_location  \\\n",
       "0                        ᏉᎥ☻լꂅϮ            astroworld   \n",
       "1                 Tom Basile 🇺🇸          New York, NY   \n",
       "2               Time4fisticuffs      Pewee Valley, KY   \n",
       "3                   ethel mertz  Stuck in the Middle    \n",
       "4                      DIPR-J&K     Jammu and Kashmir   \n",
       "...                         ...                   ...   \n",
       "74431             Laura Wolfrom         Lexington, KY   \n",
       "74432  Professor Tonya M. Evans         😷 #stayathome   \n",
       "74433        People's Daily app           北京, 中华人民共和国   \n",
       "74434                     M0ser                   NaN   \n",
       "74435    Your Friend & Sabre ⚔️           Chicago, IL   \n",
       "\n",
       "                                        user_description         user_created  \\\n",
       "0      wednesday addams as a disney princess keepin i...  2017-05-26 05:46:42   \n",
       "1      Husband, Father, Columnist & Commentator. Auth...  2009-04-16 20:06:23   \n",
       "2      #Christian #Catholic #Conservative #Reagan #Re...  2009-02-28 18:57:41   \n",
       "3      #Browns #Indians #ClevelandProud #[]_[] #Cavs ...  2019-03-07 01:45:06   \n",
       "4      🖊️Official Twitter handle of Department of Inf...  2017-02-12 06:45:15   \n",
       "...                                                  ...                  ...   \n",
       "74431            The only things I collect are memories.  2010-09-24 02:01:15   \n",
       "74432  Law Prof @DickinsonLaw & Entrepreneur | Crypto...  2013-05-14 20:15:24   \n",
       "74433  Our mission is to provide news and perspective...  2018-02-04 12:36:42   \n",
       "74434  Reagan conservative and attorney raised in the...  2014-02-18 03:46:28   \n",
       "74435  My spectral decomposition has a significant da...  2016-12-19 19:55:00   \n",
       "\n",
       "       user_followers  user_friends  user_favourites  user_verified  \\\n",
       "0                 624           950            18775          False   \n",
       "1                2253          1677               24           True   \n",
       "2                9275          9525             7254          False   \n",
       "3                 197           987             1488          False   \n",
       "4              101009           168              101          False   \n",
       "...               ...           ...              ...            ...   \n",
       "74431              85           586             1902          False   \n",
       "74432            4289          1066            53569          False   \n",
       "74433            1413           102               16          False   \n",
       "74434            2554          1733           129104          False   \n",
       "74435             310          1748            60133          False   \n",
       "\n",
       "                      date                                               text  \\\n",
       "0      2020-07-25 12:27:21  If I smelled the scent of hand sanitizers toda...   \n",
       "1      2020-07-25 12:27:17  Hey @Yankees @YankeesPR and @MLB - wouldn't it...   \n",
       "2      2020-07-25 12:27:14  @diane3443 @wdunlap @realDonaldTrump Trump nev...   \n",
       "3      2020-07-25 12:27:10  @brookbanktv The one gift #COVID19 has give me...   \n",
       "4      2020-07-25 12:27:08  25 July : Media Bulletin on Novel #CoronaVirus...   \n",
       "...                    ...                                                ...   \n",
       "74431  2020-08-04 03:13:29  So far this summer I have filled up my lawn mo...   \n",
       "74432  2020-08-04 03:13:26  ICYMI: REPLAY: #TechIntersect🧩 #16: Isaiah \"@B...   \n",
       "74433  2020-08-04 03:13:22  Community workers in Tianshan District of Urum...   \n",
       "74434  2020-08-04 03:13:19  If only we had a responsible media to warn us ...   \n",
       "74435  2020-08-04 03:13:15  MAGA: #COVID19 is just a cold &amp; it'd be go...   \n",
       "\n",
       "                                      hashtags               source  \\\n",
       "0                                          NaN   Twitter for iPhone   \n",
       "1                                          NaN  Twitter for Android   \n",
       "2                                  ['COVID19']  Twitter for Android   \n",
       "3                                  ['COVID19']   Twitter for iPhone   \n",
       "4            ['CoronaVirusUpdates', 'COVID19']  Twitter for Android   \n",
       "...                                        ...                  ...   \n",
       "74431            ['COVID19', 'QuarantineLife']   Twitter for iPhone   \n",
       "74432  ['TechIntersect', 'Bitcoin', 'COVID19']      Twitter Web App   \n",
       "74433                    ['China', 'Xinjiang']      Twitter Web App   \n",
       "74434                              ['COVID19']   Twitter for iPhone   \n",
       "74435       ['COVID19', 'Hydroxycholoroquine']  Twitter for Android   \n",
       "\n",
       "       is_retweet  \n",
       "0           False  \n",
       "1           False  \n",
       "2           False  \n",
       "3           False  \n",
       "4           False  \n",
       "...           ...  \n",
       "74431       False  \n",
       "74432       False  \n",
       "74433       False  \n",
       "74434       False  \n",
       "74435       False  \n",
       "\n",
       "[74436 rows x 13 columns]>"
      ]
     },
     "execution_count": 19,
     "metadata": {},
     "output_type": "execute_result"
    }
   ],
   "source": [
    "df2.describe"
   ]
  },
  {
   "cell_type": "code",
   "execution_count": 22,
   "metadata": {
    "colab": {
     "base_uri": "https://localhost:8080/"
    },
    "id": "nnEAzUafSn1_",
    "outputId": "bcd4f811-a215-4d00-f793-72b79961b1c5"
   },
   "outputs": [
    {
     "data": {
      "text/plain": [
       "user_name\n",
       "GlobalPandemic.NET     312\n",
       "covidnews.ch           239\n",
       "Coronavirus Updates    181\n",
       "Open Letters           177\n",
       "Hindustan Times        125\n",
       "                      ... \n",
       "Stealth_Patriot          1\n",
       "MajorCanine              1\n",
       "PiFeL                    1\n",
       "Ralph Uhlemann           1\n",
       "M0ser                    1\n",
       "Name: count, Length: 44853, dtype: int64"
      ]
     },
     "execution_count": 22,
     "metadata": {},
     "output_type": "execute_result"
    }
   ],
   "source": [
    "df2['user_name'].value_counts()"
   ]
  },
  {
   "cell_type": "code",
   "execution_count": 23,
   "metadata": {},
   "outputs": [
    {
     "data": {
      "text/plain": [
       "user_location\n",
       "India                  1496\n",
       "United States          1172\n",
       "New Delhi, India        669\n",
       "Washington, DC          589\n",
       "Mumbai, India           554\n",
       "                       ... \n",
       "Sheltering in Place       1\n",
       "NiggaBalls👁️              1\n",
       "Kaduna Nigeria            1\n",
       "ajmer                     1\n",
       "😷 #stayathome             1\n",
       "Name: count, Length: 14622, dtype: int64"
      ]
     },
     "execution_count": 23,
     "metadata": {},
     "output_type": "execute_result"
    }
   ],
   "source": [
    "df2['user_location'].value_counts()"
   ]
  },
  {
   "cell_type": "code",
   "execution_count": 24,
   "metadata": {},
   "outputs": [
    {
     "data": {
      "text/plain": [
       "user_description\n",
       "Breaking News & Critical Information to SURVIVE the Coronavirus Outbreak / Civil Unrest                                                                           312\n",
       "Coronavirus Statistics, Information & News                                                                                                                        239\n",
       "COVID-19 (Coronavirus) Latest News & Statistics.\\nWe post updates 24/7 as they come in, all stats are from official sources.\\n#Coronavirus #COVID19               181\n",
       "Copies of real letters delivered to the President, Congress, Governors, and State Legislators. Send 'resist' as a Direct Message to @resistbot to write yours.    177\n",
       "One of India's largest media companies. Latest news from around the world. Retweets are not endorsements                                                          125\n",
       "                                                                                                                                                                 ... \n",
       "Program Manager at @canopy_nepal | Student of Social Sciences | TechCamper at @KTMLivingLabs | Rotaractor                                                           1\n",
       "I like cats. I also like cookies.                                                                                                                                   1\n",
       "Teacher/ Historian / Oakland Educator. LA Native/ Bay Area Adoptee. he/ him/ his                                                                                    1\n",
       "Event Management Student\\nTheatre Production \\nExo L forever eris\\nMiracle Oh My Girl\\nLullet Cherry Bullet                                                         1\n",
       "Reagan conservative and attorney raised in the 700 level of the Vet. Diehard fan of the 2018 Super Bowl champs. #PrinciplesFirst                                    1\n",
       "Name: count, Length: 42690, dtype: int64"
      ]
     },
     "execution_count": 24,
     "metadata": {},
     "output_type": "execute_result"
    }
   ],
   "source": [
    "df2['user_description'].value_counts()"
   ]
  },
  {
   "cell_type": "code",
   "execution_count": 25,
   "metadata": {},
   "outputs": [
    {
     "data": {
      "text/plain": [
       "user_created\n",
       "2010-07-13 21:58:05    312\n",
       "2020-03-21 16:13:52    239\n",
       "2020-03-07 12:52:51    181\n",
       "2017-12-06 22:18:07    177\n",
       "2009-04-29 10:11:34    125\n",
       "                      ... \n",
       "2013-04-15 16:20:23      1\n",
       "2019-08-23 14:54:26      1\n",
       "2012-08-31 04:02:12      1\n",
       "2017-02-22 22:24:11      1\n",
       "2014-02-18 03:46:28      1\n",
       "Name: count, Length: 45554, dtype: int64"
      ]
     },
     "execution_count": 25,
     "metadata": {},
     "output_type": "execute_result"
    }
   ],
   "source": [
    "df2['user_created'].value_counts()"
   ]
  },
  {
   "cell_type": "code",
   "execution_count": 26,
   "metadata": {},
   "outputs": [
    {
     "data": {
      "text/plain": [
       "user_followers\n",
       "0         685\n",
       "1         484\n",
       "2         454\n",
       "3         360\n",
       "4         342\n",
       "         ... \n",
       "567944      1\n",
       "889135      1\n",
       "27639       1\n",
       "7512        1\n",
       "336277      1\n",
       "Name: count, Length: 15533, dtype: int64"
      ]
     },
     "execution_count": 26,
     "metadata": {},
     "output_type": "execute_result"
    }
   ],
   "source": [
    "df2['user_followers'].value_counts()"
   ]
  },
  {
   "cell_type": "code",
   "execution_count": 27,
   "metadata": {},
   "outputs": [
    {
     "data": {
      "text/plain": [
       "user_friends\n",
       "0        1152\n",
       "1         559\n",
       "3         500\n",
       "6         349\n",
       "2         346\n",
       "         ... \n",
       "5255        1\n",
       "12426       1\n",
       "5401        1\n",
       "99060       1\n",
       "13653       1\n",
       "Name: count, Length: 7627, dtype: int64"
      ]
     },
     "execution_count": 27,
     "metadata": {},
     "output_type": "execute_result"
    }
   ],
   "source": [
    "df2['user_friends'].value_counts()"
   ]
  },
  {
   "cell_type": "code",
   "execution_count": 28,
   "metadata": {},
   "outputs": [
    {
     "data": {
      "text/plain": [
       "user_favourites\n",
       "0         2003\n",
       "2         1016\n",
       "1          805\n",
       "3          419\n",
       "8          375\n",
       "          ... \n",
       "528842       1\n",
       "94900        1\n",
       "11720        1\n",
       "20920        1\n",
       "60133        1\n",
       "Name: count, Length: 21115, dtype: int64"
      ]
     },
     "execution_count": 28,
     "metadata": {},
     "output_type": "execute_result"
    }
   ],
   "source": [
    "df2['user_favourites'].value_counts()"
   ]
  },
  {
   "cell_type": "code",
   "execution_count": 29,
   "metadata": {},
   "outputs": [
    {
     "data": {
      "text/plain": [
       "user_verified\n",
       "False    65082\n",
       "True      9354\n",
       "Name: count, dtype: int64"
      ]
     },
     "execution_count": 29,
     "metadata": {},
     "output_type": "execute_result"
    }
   ],
   "source": [
    "df2['user_verified'].value_counts()"
   ]
  },
  {
   "cell_type": "code",
   "execution_count": 30,
   "metadata": {},
   "outputs": [
    {
     "data": {
      "text/plain": [
       "date\n",
       "2020-07-29 16:30:00    26\n",
       "2020-07-29 16:00:00    25\n",
       "2020-07-29 16:00:01    21\n",
       "2020-08-04 07:00:00    21\n",
       "2020-07-25 07:30:00    19\n",
       "                       ..\n",
       "2020-07-27 07:02:17     1\n",
       "2020-07-27 07:02:16     1\n",
       "2020-07-27 07:02:06     1\n",
       "2020-07-27 07:02:01     1\n",
       "2020-08-04 03:13:15     1\n",
       "Name: count, Length: 56546, dtype: int64"
      ]
     },
     "execution_count": 30,
     "metadata": {},
     "output_type": "execute_result"
    }
   ],
   "source": [
    "df2['date'].value_counts()"
   ]
  },
  {
   "cell_type": "code",
   "execution_count": 31,
   "metadata": {},
   "outputs": [
    {
     "data": {
      "text/plain": [
       "text\n",
       "Greenland has no active cases of the novel coronavirus disease/COVID-19. #COVID19                                                                     6\n",
       "Madhya Pradesh CM Shivraj Singh Chouhan says he has tested #COVID19 positive                                                                          6\n",
       "India conducted over 4.20 lakh tests in a day, highest so far; tests per million rises to 11,485: Health Ministry. #COVID19                           5\n",
       "The incompetence of this administration, and the president in particular, has doomed us all. This is Trump's pandemic. #COVID19                       5\n",
       "This is Trump's Pandemic. #MAGA2020 #COVID19                                                                                                          5\n",
       "                                                                                                                                                     ..\n",
       "#Hurricane #Hanna hits regions of #Texas and #Mexico devastated by #COVID19. https://t.co/jihrXtePhz                                                  1\n",
       "It is sleek smart and stylish \\nHp Elitebook Folio Revolve \\n12gb  Ram \\n266gb Ssd\\nCorei5  2.40ghz  Processor \\n\\nPrice… https://t.co/eg59VRFcNk     1\n",
       "In the face of new challenges in the #COVID19 era, we’re developing pioneering solutions. @Ferland_Martine shares w… https://t.co/jt1slaksc7          1\n",
       "Florida Case Count Surpasses That of New York, The Country's Original Epicenter @NPR #NPR #COVID19 #News #JustHeadlines                               1\n",
       "MAGA: #COVID19 is just a cold &amp; it'd be gone if you stupid liberals approved #Hydroxycholoroquine.\\n\\nMe: No one actu… https://t.co/Jxv9Mj4vCH    1\n",
       "Name: count, Length: 74312, dtype: int64"
      ]
     },
     "execution_count": 31,
     "metadata": {},
     "output_type": "execute_result"
    }
   ],
   "source": [
    "df2['text'].value_counts()"
   ]
  },
  {
   "cell_type": "code",
   "execution_count": 32,
   "metadata": {},
   "outputs": [
    {
     "data": {
      "text/plain": [
       "hashtags\n",
       "['COVID19']                                                                       16004\n",
       "['Covid19']                                                                        1913\n",
       "['covid19']                                                                        1383\n",
       "['Coronavirus', 'COVID19']                                                          228\n",
       "['COVID19', 'coronavirus']                                                          225\n",
       "                                                                                  ...  \n",
       "['COVID19', 'racist', 'pig']                                                          1\n",
       "['MainaAndKingangi', 'MwashumbeNaShugaboy', 'KameneAndJalas', 'ChurchillShow']        1\n",
       "['Creativity', 'Online', 'PenkraftWorkshops', 'MadhubaniOnline', 'Workshop']          1\n",
       "['masks', 'Mask', 'COVIDIOTS', 'covidhoax', 'covid19']                                1\n",
       "['China', 'Xinjiang']                                                                 1\n",
       "Name: count, Length: 23445, dtype: int64"
      ]
     },
     "execution_count": 32,
     "metadata": {},
     "output_type": "execute_result"
    }
   ],
   "source": [
    "df2['hashtags'].value_counts()"
   ]
  },
  {
   "cell_type": "code",
   "execution_count": 33,
   "metadata": {},
   "outputs": [
    {
     "data": {
      "text/plain": [
       "source\n",
       "Twitter Web App               22974\n",
       "Twitter for Android           16758\n",
       "Twitter for iPhone            15824\n",
       "TweetDeck                      3453\n",
       "Hootsuite Inc.                 2846\n",
       "                              ...  \n",
       "Post to Social by SHIFT1          1\n",
       "PRNewswire                        1\n",
       "Hep Auto Tweet                    1\n",
       "Chorus publishing platform        1\n",
       "Tweecha Lite                      1\n",
       "Name: count, Length: 450, dtype: int64"
      ]
     },
     "execution_count": 33,
     "metadata": {},
     "output_type": "execute_result"
    }
   ],
   "source": [
    "df2['source'].value_counts()"
   ]
  },
  {
   "cell_type": "code",
   "execution_count": 34,
   "metadata": {},
   "outputs": [
    {
     "data": {
      "text/plain": [
       "is_retweet\n",
       "False    74436\n",
       "Name: count, dtype: int64"
      ]
     },
     "execution_count": 34,
     "metadata": {},
     "output_type": "execute_result"
    }
   ],
   "source": [
    "df2['is_retweet'].value_counts()"
   ]
  },
  {
   "cell_type": "code",
   "execution_count": 35,
   "metadata": {
    "colab": {
     "base_uri": "https://localhost:8080/",
     "height": 538
    },
    "id": "kcKTjKbxS8xx",
    "outputId": "dd4bfd75-8d37-4d14-a2ef-95c838f850fa"
   },
   "outputs": [
    {
     "data": {
      "text/html": [
       "<div>\n",
       "<style scoped>\n",
       "    .dataframe tbody tr th:only-of-type {\n",
       "        vertical-align: middle;\n",
       "    }\n",
       "\n",
       "    .dataframe tbody tr th {\n",
       "        vertical-align: top;\n",
       "    }\n",
       "\n",
       "    .dataframe thead th {\n",
       "        text-align: right;\n",
       "    }\n",
       "</style>\n",
       "<table border=\"1\" class=\"dataframe\">\n",
       "  <thead>\n",
       "    <tr style=\"text-align: right;\">\n",
       "      <th></th>\n",
       "      <th>0</th>\n",
       "      <th>1</th>\n",
       "      <th>2</th>\n",
       "      <th>3</th>\n",
       "      <th>4</th>\n",
       "      <th>5</th>\n",
       "      <th>6</th>\n",
       "      <th>7</th>\n",
       "      <th>8</th>\n",
       "      <th>9</th>\n",
       "      <th>...</th>\n",
       "      <th>74426</th>\n",
       "      <th>74427</th>\n",
       "      <th>74428</th>\n",
       "      <th>74429</th>\n",
       "      <th>74430</th>\n",
       "      <th>74431</th>\n",
       "      <th>74432</th>\n",
       "      <th>74433</th>\n",
       "      <th>74434</th>\n",
       "      <th>74435</th>\n",
       "    </tr>\n",
       "  </thead>\n",
       "  <tbody>\n",
       "    <tr>\n",
       "      <th>user_name</th>\n",
       "      <td>ᏉᎥ☻լꂅϮ</td>\n",
       "      <td>Tom Basile 🇺🇸</td>\n",
       "      <td>Time4fisticuffs</td>\n",
       "      <td>ethel mertz</td>\n",
       "      <td>DIPR-J&amp;K</td>\n",
       "      <td>🎹 Franz Schubert</td>\n",
       "      <td>hr bartender</td>\n",
       "      <td>Derbyshire LPC</td>\n",
       "      <td>Prathamesh Bendre</td>\n",
       "      <td>Member of Christ 🇨🇳🇺🇸🇮🇳🇮🇩🇧🇷🇳🇬🇧🇩🇷🇺</td>\n",
       "      <td>...</td>\n",
       "      <td>Mel McDowall</td>\n",
       "      <td>Ifeanyi Okafor</td>\n",
       "      <td>Peter Critter</td>\n",
       "      <td>Left of Center</td>\n",
       "      <td>Jimmy Slamat</td>\n",
       "      <td>Laura Wolfrom</td>\n",
       "      <td>Professor Tonya M. Evans</td>\n",
       "      <td>People's Daily app</td>\n",
       "      <td>M0ser</td>\n",
       "      <td>Your Friend &amp; Sabre ⚔️</td>\n",
       "    </tr>\n",
       "    <tr>\n",
       "      <th>user_location</th>\n",
       "      <td>astroworld</td>\n",
       "      <td>New York, NY</td>\n",
       "      <td>Pewee Valley, KY</td>\n",
       "      <td>Stuck in the Middle</td>\n",
       "      <td>Jammu and Kashmir</td>\n",
       "      <td>Новоро́ссия</td>\n",
       "      <td>Gainesville, FL</td>\n",
       "      <td>NaN</td>\n",
       "      <td>NaN</td>\n",
       "      <td>👇🏻location at link below👇🏻</td>\n",
       "      <td>...</td>\n",
       "      <td>Adelaide, Australia</td>\n",
       "      <td>NaN</td>\n",
       "      <td>NaN</td>\n",
       "      <td>On a soapbox</td>\n",
       "      <td>Los Angeles, CA</td>\n",
       "      <td>Lexington, KY</td>\n",
       "      <td>😷 #stayathome</td>\n",
       "      <td>北京, 中华人民共和国</td>\n",
       "      <td>NaN</td>\n",
       "      <td>Chicago, IL</td>\n",
       "    </tr>\n",
       "    <tr>\n",
       "      <th>user_description</th>\n",
       "      <td>wednesday addams as a disney princess keepin i...</td>\n",
       "      <td>Husband, Father, Columnist &amp; Commentator. Auth...</td>\n",
       "      <td>#Christian #Catholic #Conservative #Reagan #Re...</td>\n",
       "      <td>#Browns #Indians #ClevelandProud #[]_[] #Cavs ...</td>\n",
       "      <td>🖊️Official Twitter handle of Department of Inf...</td>\n",
       "      <td>🎼  #Новоро́ссия #Novorossiya #оставайсядома #S...</td>\n",
       "      <td>Workplace tips and advice served up in a frien...</td>\n",
       "      <td>NaN</td>\n",
       "      <td>A poet, reiki practitioner and a student of law.</td>\n",
       "      <td>Just as the body is one &amp; has many members, &amp; ...</td>\n",
       "      <td>...</td>\n",
       "      <td>Developer of mini McDs | reality TV fanatic | ...</td>\n",
       "      <td>NaN</td>\n",
       "      <td>POC. PI</td>\n",
       "      <td>I lean left of center on the political dial. T...</td>\n",
       "      <td>I follow the market and all it’s astounding ev...</td>\n",
       "      <td>The only things I collect are memories.</td>\n",
       "      <td>Law Prof @DickinsonLaw &amp; Entrepreneur | Crypto...</td>\n",
       "      <td>Our mission is to provide news and perspective...</td>\n",
       "      <td>Reagan conservative and attorney raised in the...</td>\n",
       "      <td>My spectral decomposition has a significant da...</td>\n",
       "    </tr>\n",
       "    <tr>\n",
       "      <th>user_created</th>\n",
       "      <td>2017-05-26 05:46:42</td>\n",
       "      <td>2009-04-16 20:06:23</td>\n",
       "      <td>2009-02-28 18:57:41</td>\n",
       "      <td>2019-03-07 01:45:06</td>\n",
       "      <td>2017-02-12 06:45:15</td>\n",
       "      <td>2018-03-19 16:29:52</td>\n",
       "      <td>2008-08-12 18:19:49</td>\n",
       "      <td>2012-02-03 18:08:10</td>\n",
       "      <td>2015-04-25 08:15:41</td>\n",
       "      <td>2014-08-17 04:53:22</td>\n",
       "      <td>...</td>\n",
       "      <td>2013-12-05 01:43:58</td>\n",
       "      <td>2011-05-05 13:46:41</td>\n",
       "      <td>2015-09-26 12:21:20</td>\n",
       "      <td>2015-07-29 00:45:47</td>\n",
       "      <td>2009-08-06 08:39:31</td>\n",
       "      <td>2010-09-24 02:01:15</td>\n",
       "      <td>2013-05-14 20:15:24</td>\n",
       "      <td>2018-02-04 12:36:42</td>\n",
       "      <td>2014-02-18 03:46:28</td>\n",
       "      <td>2016-12-19 19:55:00</td>\n",
       "    </tr>\n",
       "    <tr>\n",
       "      <th>user_followers</th>\n",
       "      <td>624</td>\n",
       "      <td>2253</td>\n",
       "      <td>9275</td>\n",
       "      <td>197</td>\n",
       "      <td>101009</td>\n",
       "      <td>1180</td>\n",
       "      <td>79956</td>\n",
       "      <td>608</td>\n",
       "      <td>25</td>\n",
       "      <td>55201</td>\n",
       "      <td>...</td>\n",
       "      <td>546</td>\n",
       "      <td>0</td>\n",
       "      <td>52</td>\n",
       "      <td>79</td>\n",
       "      <td>49</td>\n",
       "      <td>85</td>\n",
       "      <td>4289</td>\n",
       "      <td>1413</td>\n",
       "      <td>2554</td>\n",
       "      <td>310</td>\n",
       "    </tr>\n",
       "    <tr>\n",
       "      <th>user_friends</th>\n",
       "      <td>950</td>\n",
       "      <td>1677</td>\n",
       "      <td>9525</td>\n",
       "      <td>987</td>\n",
       "      <td>168</td>\n",
       "      <td>1071</td>\n",
       "      <td>54810</td>\n",
       "      <td>355</td>\n",
       "      <td>29</td>\n",
       "      <td>34239</td>\n",
       "      <td>...</td>\n",
       "      <td>565</td>\n",
       "      <td>28</td>\n",
       "      <td>196</td>\n",
       "      <td>91</td>\n",
       "      <td>82</td>\n",
       "      <td>586</td>\n",
       "      <td>1066</td>\n",
       "      <td>102</td>\n",
       "      <td>1733</td>\n",
       "      <td>1748</td>\n",
       "    </tr>\n",
       "    <tr>\n",
       "      <th>user_favourites</th>\n",
       "      <td>18775</td>\n",
       "      <td>24</td>\n",
       "      <td>7254</td>\n",
       "      <td>1488</td>\n",
       "      <td>101</td>\n",
       "      <td>1287</td>\n",
       "      <td>3801</td>\n",
       "      <td>95</td>\n",
       "      <td>18</td>\n",
       "      <td>29802</td>\n",
       "      <td>...</td>\n",
       "      <td>3575</td>\n",
       "      <td>42</td>\n",
       "      <td>6726</td>\n",
       "      <td>137</td>\n",
       "      <td>281</td>\n",
       "      <td>1902</td>\n",
       "      <td>53569</td>\n",
       "      <td>16</td>\n",
       "      <td>129104</td>\n",
       "      <td>60133</td>\n",
       "    </tr>\n",
       "    <tr>\n",
       "      <th>user_verified</th>\n",
       "      <td>False</td>\n",
       "      <td>True</td>\n",
       "      <td>False</td>\n",
       "      <td>False</td>\n",
       "      <td>False</td>\n",
       "      <td>False</td>\n",
       "      <td>False</td>\n",
       "      <td>False</td>\n",
       "      <td>False</td>\n",
       "      <td>False</td>\n",
       "      <td>...</td>\n",
       "      <td>False</td>\n",
       "      <td>False</td>\n",
       "      <td>False</td>\n",
       "      <td>False</td>\n",
       "      <td>False</td>\n",
       "      <td>False</td>\n",
       "      <td>False</td>\n",
       "      <td>False</td>\n",
       "      <td>False</td>\n",
       "      <td>False</td>\n",
       "    </tr>\n",
       "    <tr>\n",
       "      <th>date</th>\n",
       "      <td>2020-07-25 12:27:21</td>\n",
       "      <td>2020-07-25 12:27:17</td>\n",
       "      <td>2020-07-25 12:27:14</td>\n",
       "      <td>2020-07-25 12:27:10</td>\n",
       "      <td>2020-07-25 12:27:08</td>\n",
       "      <td>2020-07-25 12:27:06</td>\n",
       "      <td>2020-07-25 12:27:03</td>\n",
       "      <td>2020-07-25 12:27:00</td>\n",
       "      <td>2020-07-25 12:26:59</td>\n",
       "      <td>2020-07-25 12:26:54</td>\n",
       "      <td>...</td>\n",
       "      <td>2020-08-04 03:13:36</td>\n",
       "      <td>2020-08-04 03:13:35</td>\n",
       "      <td>2020-08-04 03:13:33</td>\n",
       "      <td>2020-08-04 03:13:29</td>\n",
       "      <td>2020-08-04 03:13:29</td>\n",
       "      <td>2020-08-04 03:13:29</td>\n",
       "      <td>2020-08-04 03:13:26</td>\n",
       "      <td>2020-08-04 03:13:22</td>\n",
       "      <td>2020-08-04 03:13:19</td>\n",
       "      <td>2020-08-04 03:13:15</td>\n",
       "    </tr>\n",
       "    <tr>\n",
       "      <th>text</th>\n",
       "      <td>If I smelled the scent of hand sanitizers toda...</td>\n",
       "      <td>Hey @Yankees @YankeesPR and @MLB - wouldn't it...</td>\n",
       "      <td>@diane3443 @wdunlap @realDonaldTrump Trump nev...</td>\n",
       "      <td>@brookbanktv The one gift #COVID19 has give me...</td>\n",
       "      <td>25 July : Media Bulletin on Novel #CoronaVirus...</td>\n",
       "      <td>#coronavirus #covid19 deaths continue to rise....</td>\n",
       "      <td>How #COVID19 Will Change Work in General (and ...</td>\n",
       "      <td>You now have to wear face coverings when out s...</td>\n",
       "      <td>Praying for good health and recovery of @Chouh...</td>\n",
       "      <td>POPE AS GOD - Prophet Sadhu Sundar Selvaraj. W...</td>\n",
       "      <td>...</td>\n",
       "      <td>The development of an effective &amp;amp; long-las...</td>\n",
       "      <td>Guess the only state in Nigeria with no report...</td>\n",
       "      <td>#COVID19 is a smokescreen!\\n#coronavirus\\nhttp...</td>\n",
       "      <td>The #FDA and prominent doctors have said #hydr...</td>\n",
       "      <td>So maybe Sweden did do it right, by doing noth...</td>\n",
       "      <td>So far this summer I have filled up my lawn mo...</td>\n",
       "      <td>ICYMI: REPLAY: #TechIntersect🧩 #16: Isaiah \"@B...</td>\n",
       "      <td>Community workers in Tianshan District of Urum...</td>\n",
       "      <td>If only we had a responsible media to warn us ...</td>\n",
       "      <td>MAGA: #COVID19 is just a cold &amp;amp; it'd be go...</td>\n",
       "    </tr>\n",
       "    <tr>\n",
       "      <th>hashtags</th>\n",
       "      <td>NaN</td>\n",
       "      <td>NaN</td>\n",
       "      <td>['COVID19']</td>\n",
       "      <td>['COVID19']</td>\n",
       "      <td>['CoronaVirusUpdates', 'COVID19']</td>\n",
       "      <td>['coronavirus', 'covid19']</td>\n",
       "      <td>['COVID19', 'Recruiting']</td>\n",
       "      <td>NaN</td>\n",
       "      <td>['covid19', 'covidPositive']</td>\n",
       "      <td>['HurricaneHanna', 'COVID19']</td>\n",
       "      <td>...</td>\n",
       "      <td>NaN</td>\n",
       "      <td>['COVID19']</td>\n",
       "      <td>['COVID19', 'coronavirus']</td>\n",
       "      <td>['FDA', 'hydroxychloroquine', 'covid19', 'Trump']</td>\n",
       "      <td>['COVID19', 'coronavirus']</td>\n",
       "      <td>['COVID19', 'QuarantineLife']</td>\n",
       "      <td>['TechIntersect', 'Bitcoin', 'COVID19']</td>\n",
       "      <td>['China', 'Xinjiang']</td>\n",
       "      <td>['COVID19']</td>\n",
       "      <td>['COVID19', 'Hydroxycholoroquine']</td>\n",
       "    </tr>\n",
       "    <tr>\n",
       "      <th>source</th>\n",
       "      <td>Twitter for iPhone</td>\n",
       "      <td>Twitter for Android</td>\n",
       "      <td>Twitter for Android</td>\n",
       "      <td>Twitter for iPhone</td>\n",
       "      <td>Twitter for Android</td>\n",
       "      <td>Twitter Web App</td>\n",
       "      <td>Buffer</td>\n",
       "      <td>TweetDeck</td>\n",
       "      <td>Twitter for Android</td>\n",
       "      <td>Twitter for iPhone</td>\n",
       "      <td>...</td>\n",
       "      <td>Twitter Web App</td>\n",
       "      <td>Twitter for Android</td>\n",
       "      <td>Twitter for Android</td>\n",
       "      <td>Twitter for iPhone</td>\n",
       "      <td>Twitter for iPhone</td>\n",
       "      <td>Twitter for iPhone</td>\n",
       "      <td>Twitter Web App</td>\n",
       "      <td>Twitter Web App</td>\n",
       "      <td>Twitter for iPhone</td>\n",
       "      <td>Twitter for Android</td>\n",
       "    </tr>\n",
       "    <tr>\n",
       "      <th>is_retweet</th>\n",
       "      <td>False</td>\n",
       "      <td>False</td>\n",
       "      <td>False</td>\n",
       "      <td>False</td>\n",
       "      <td>False</td>\n",
       "      <td>False</td>\n",
       "      <td>False</td>\n",
       "      <td>False</td>\n",
       "      <td>False</td>\n",
       "      <td>False</td>\n",
       "      <td>...</td>\n",
       "      <td>False</td>\n",
       "      <td>False</td>\n",
       "      <td>False</td>\n",
       "      <td>False</td>\n",
       "      <td>False</td>\n",
       "      <td>False</td>\n",
       "      <td>False</td>\n",
       "      <td>False</td>\n",
       "      <td>False</td>\n",
       "      <td>False</td>\n",
       "    </tr>\n",
       "  </tbody>\n",
       "</table>\n",
       "<p>13 rows × 74436 columns</p>\n",
       "</div>"
      ],
      "text/plain": [
       "                                                              0      \\\n",
       "user_name                                                    ᏉᎥ☻լꂅϮ   \n",
       "user_location                                            astroworld   \n",
       "user_description  wednesday addams as a disney princess keepin i...   \n",
       "user_created                                    2017-05-26 05:46:42   \n",
       "user_followers                                                  624   \n",
       "user_friends                                                    950   \n",
       "user_favourites                                               18775   \n",
       "user_verified                                                 False   \n",
       "date                                            2020-07-25 12:27:21   \n",
       "text              If I smelled the scent of hand sanitizers toda...   \n",
       "hashtags                                                        NaN   \n",
       "source                                           Twitter for iPhone   \n",
       "is_retweet                                                    False   \n",
       "\n",
       "                                                              1      \\\n",
       "user_name                                             Tom Basile 🇺🇸   \n",
       "user_location                                          New York, NY   \n",
       "user_description  Husband, Father, Columnist & Commentator. Auth...   \n",
       "user_created                                    2009-04-16 20:06:23   \n",
       "user_followers                                                 2253   \n",
       "user_friends                                                   1677   \n",
       "user_favourites                                                  24   \n",
       "user_verified                                                  True   \n",
       "date                                            2020-07-25 12:27:17   \n",
       "text              Hey @Yankees @YankeesPR and @MLB - wouldn't it...   \n",
       "hashtags                                                        NaN   \n",
       "source                                          Twitter for Android   \n",
       "is_retweet                                                    False   \n",
       "\n",
       "                                                              2      \\\n",
       "user_name                                           Time4fisticuffs   \n",
       "user_location                                      Pewee Valley, KY   \n",
       "user_description  #Christian #Catholic #Conservative #Reagan #Re...   \n",
       "user_created                                    2009-02-28 18:57:41   \n",
       "user_followers                                                 9275   \n",
       "user_friends                                                   9525   \n",
       "user_favourites                                                7254   \n",
       "user_verified                                                 False   \n",
       "date                                            2020-07-25 12:27:14   \n",
       "text              @diane3443 @wdunlap @realDonaldTrump Trump nev...   \n",
       "hashtags                                                ['COVID19']   \n",
       "source                                          Twitter for Android   \n",
       "is_retweet                                                    False   \n",
       "\n",
       "                                                              3      \\\n",
       "user_name                                               ethel mertz   \n",
       "user_location                                  Stuck in the Middle    \n",
       "user_description  #Browns #Indians #ClevelandProud #[]_[] #Cavs ...   \n",
       "user_created                                    2019-03-07 01:45:06   \n",
       "user_followers                                                  197   \n",
       "user_friends                                                    987   \n",
       "user_favourites                                                1488   \n",
       "user_verified                                                 False   \n",
       "date                                            2020-07-25 12:27:10   \n",
       "text              @brookbanktv The one gift #COVID19 has give me...   \n",
       "hashtags                                                ['COVID19']   \n",
       "source                                           Twitter for iPhone   \n",
       "is_retweet                                                    False   \n",
       "\n",
       "                                                              4      \\\n",
       "user_name                                                  DIPR-J&K   \n",
       "user_location                                     Jammu and Kashmir   \n",
       "user_description  🖊️Official Twitter handle of Department of Inf...   \n",
       "user_created                                    2017-02-12 06:45:15   \n",
       "user_followers                                               101009   \n",
       "user_friends                                                    168   \n",
       "user_favourites                                                 101   \n",
       "user_verified                                                 False   \n",
       "date                                            2020-07-25 12:27:08   \n",
       "text              25 July : Media Bulletin on Novel #CoronaVirus...   \n",
       "hashtags                          ['CoronaVirusUpdates', 'COVID19']   \n",
       "source                                          Twitter for Android   \n",
       "is_retweet                                                    False   \n",
       "\n",
       "                                                              5      \\\n",
       "user_name                                          🎹 Franz Schubert   \n",
       "user_location                                           Новоро́ссия   \n",
       "user_description  🎼  #Новоро́ссия #Novorossiya #оставайсядома #S...   \n",
       "user_created                                    2018-03-19 16:29:52   \n",
       "user_followers                                                 1180   \n",
       "user_friends                                                   1071   \n",
       "user_favourites                                                1287   \n",
       "user_verified                                                 False   \n",
       "date                                            2020-07-25 12:27:06   \n",
       "text              #coronavirus #covid19 deaths continue to rise....   \n",
       "hashtags                                 ['coronavirus', 'covid19']   \n",
       "source                                              Twitter Web App   \n",
       "is_retweet                                                    False   \n",
       "\n",
       "                                                              6      \\\n",
       "user_name                                              hr bartender   \n",
       "user_location                                       Gainesville, FL   \n",
       "user_description  Workplace tips and advice served up in a frien...   \n",
       "user_created                                    2008-08-12 18:19:49   \n",
       "user_followers                                                79956   \n",
       "user_friends                                                  54810   \n",
       "user_favourites                                                3801   \n",
       "user_verified                                                 False   \n",
       "date                                            2020-07-25 12:27:03   \n",
       "text              How #COVID19 Will Change Work in General (and ...   \n",
       "hashtags                                  ['COVID19', 'Recruiting']   \n",
       "source                                                       Buffer   \n",
       "is_retweet                                                    False   \n",
       "\n",
       "                                                              7      \\\n",
       "user_name                                            Derbyshire LPC   \n",
       "user_location                                                   NaN   \n",
       "user_description                                                NaN   \n",
       "user_created                                    2012-02-03 18:08:10   \n",
       "user_followers                                                  608   \n",
       "user_friends                                                    355   \n",
       "user_favourites                                                  95   \n",
       "user_verified                                                 False   \n",
       "date                                            2020-07-25 12:27:00   \n",
       "text              You now have to wear face coverings when out s...   \n",
       "hashtags                                                        NaN   \n",
       "source                                                    TweetDeck   \n",
       "is_retweet                                                    False   \n",
       "\n",
       "                                                              8      \\\n",
       "user_name                                         Prathamesh Bendre   \n",
       "user_location                                                   NaN   \n",
       "user_description   A poet, reiki practitioner and a student of law.   \n",
       "user_created                                    2015-04-25 08:15:41   \n",
       "user_followers                                                   25   \n",
       "user_friends                                                     29   \n",
       "user_favourites                                                  18   \n",
       "user_verified                                                 False   \n",
       "date                                            2020-07-25 12:26:59   \n",
       "text              Praying for good health and recovery of @Chouh...   \n",
       "hashtags                               ['covid19', 'covidPositive']   \n",
       "source                                          Twitter for Android   \n",
       "is_retweet                                                    False   \n",
       "\n",
       "                                                              9      ...  \\\n",
       "user_name                         Member of Christ 🇨🇳🇺🇸🇮🇳🇮🇩🇧🇷🇳🇬🇧🇩🇷🇺  ...   \n",
       "user_location                            👇🏻location at link below👇🏻  ...   \n",
       "user_description  Just as the body is one & has many members, & ...  ...   \n",
       "user_created                                    2014-08-17 04:53:22  ...   \n",
       "user_followers                                                55201  ...   \n",
       "user_friends                                                  34239  ...   \n",
       "user_favourites                                               29802  ...   \n",
       "user_verified                                                 False  ...   \n",
       "date                                            2020-07-25 12:26:54  ...   \n",
       "text              POPE AS GOD - Prophet Sadhu Sundar Selvaraj. W...  ...   \n",
       "hashtags                              ['HurricaneHanna', 'COVID19']  ...   \n",
       "source                                           Twitter for iPhone  ...   \n",
       "is_retweet                                                    False  ...   \n",
       "\n",
       "                                                              74426  \\\n",
       "user_name                                              Mel McDowall   \n",
       "user_location                                   Adelaide, Australia   \n",
       "user_description  Developer of mini McDs | reality TV fanatic | ...   \n",
       "user_created                                    2013-12-05 01:43:58   \n",
       "user_followers                                                  546   \n",
       "user_friends                                                    565   \n",
       "user_favourites                                                3575   \n",
       "user_verified                                                 False   \n",
       "date                                            2020-08-04 03:13:36   \n",
       "text              The development of an effective &amp; long-las...   \n",
       "hashtags                                                        NaN   \n",
       "source                                              Twitter Web App   \n",
       "is_retweet                                                    False   \n",
       "\n",
       "                                                              74427  \\\n",
       "user_name                                            Ifeanyi Okafor   \n",
       "user_location                                                   NaN   \n",
       "user_description                                                NaN   \n",
       "user_created                                    2011-05-05 13:46:41   \n",
       "user_followers                                                    0   \n",
       "user_friends                                                     28   \n",
       "user_favourites                                                  42   \n",
       "user_verified                                                 False   \n",
       "date                                            2020-08-04 03:13:35   \n",
       "text              Guess the only state in Nigeria with no report...   \n",
       "hashtags                                                ['COVID19']   \n",
       "source                                          Twitter for Android   \n",
       "is_retweet                                                    False   \n",
       "\n",
       "                                                              74428  \\\n",
       "user_name                                             Peter Critter   \n",
       "user_location                                                   NaN   \n",
       "user_description                                            POC. PI   \n",
       "user_created                                    2015-09-26 12:21:20   \n",
       "user_followers                                                   52   \n",
       "user_friends                                                    196   \n",
       "user_favourites                                                6726   \n",
       "user_verified                                                 False   \n",
       "date                                            2020-08-04 03:13:33   \n",
       "text              #COVID19 is a smokescreen!\\n#coronavirus\\nhttp...   \n",
       "hashtags                                 ['COVID19', 'coronavirus']   \n",
       "source                                          Twitter for Android   \n",
       "is_retweet                                                    False   \n",
       "\n",
       "                                                              74429  \\\n",
       "user_name                                            Left of Center   \n",
       "user_location                                          On a soapbox   \n",
       "user_description  I lean left of center on the political dial. T...   \n",
       "user_created                                    2015-07-29 00:45:47   \n",
       "user_followers                                                   79   \n",
       "user_friends                                                     91   \n",
       "user_favourites                                                 137   \n",
       "user_verified                                                 False   \n",
       "date                                            2020-08-04 03:13:29   \n",
       "text              The #FDA and prominent doctors have said #hydr...   \n",
       "hashtags          ['FDA', 'hydroxychloroquine', 'covid19', 'Trump']   \n",
       "source                                           Twitter for iPhone   \n",
       "is_retweet                                                    False   \n",
       "\n",
       "                                                              74430  \\\n",
       "user_name                                              Jimmy Slamat   \n",
       "user_location                                       Los Angeles, CA   \n",
       "user_description  I follow the market and all it’s astounding ev...   \n",
       "user_created                                    2009-08-06 08:39:31   \n",
       "user_followers                                                   49   \n",
       "user_friends                                                     82   \n",
       "user_favourites                                                 281   \n",
       "user_verified                                                 False   \n",
       "date                                            2020-08-04 03:13:29   \n",
       "text              So maybe Sweden did do it right, by doing noth...   \n",
       "hashtags                                 ['COVID19', 'coronavirus']   \n",
       "source                                           Twitter for iPhone   \n",
       "is_retweet                                                    False   \n",
       "\n",
       "                                                              74431  \\\n",
       "user_name                                             Laura Wolfrom   \n",
       "user_location                                         Lexington, KY   \n",
       "user_description            The only things I collect are memories.   \n",
       "user_created                                    2010-09-24 02:01:15   \n",
       "user_followers                                                   85   \n",
       "user_friends                                                    586   \n",
       "user_favourites                                                1902   \n",
       "user_verified                                                 False   \n",
       "date                                            2020-08-04 03:13:29   \n",
       "text              So far this summer I have filled up my lawn mo...   \n",
       "hashtags                              ['COVID19', 'QuarantineLife']   \n",
       "source                                           Twitter for iPhone   \n",
       "is_retweet                                                    False   \n",
       "\n",
       "                                                              74432  \\\n",
       "user_name                                  Professor Tonya M. Evans   \n",
       "user_location                                         😷 #stayathome   \n",
       "user_description  Law Prof @DickinsonLaw & Entrepreneur | Crypto...   \n",
       "user_created                                    2013-05-14 20:15:24   \n",
       "user_followers                                                 4289   \n",
       "user_friends                                                   1066   \n",
       "user_favourites                                               53569   \n",
       "user_verified                                                 False   \n",
       "date                                            2020-08-04 03:13:26   \n",
       "text              ICYMI: REPLAY: #TechIntersect🧩 #16: Isaiah \"@B...   \n",
       "hashtags                    ['TechIntersect', 'Bitcoin', 'COVID19']   \n",
       "source                                              Twitter Web App   \n",
       "is_retweet                                                    False   \n",
       "\n",
       "                                                              74433  \\\n",
       "user_name                                        People's Daily app   \n",
       "user_location                                           北京, 中华人民共和国   \n",
       "user_description  Our mission is to provide news and perspective...   \n",
       "user_created                                    2018-02-04 12:36:42   \n",
       "user_followers                                                 1413   \n",
       "user_friends                                                    102   \n",
       "user_favourites                                                  16   \n",
       "user_verified                                                 False   \n",
       "date                                            2020-08-04 03:13:22   \n",
       "text              Community workers in Tianshan District of Urum...   \n",
       "hashtags                                      ['China', 'Xinjiang']   \n",
       "source                                              Twitter Web App   \n",
       "is_retweet                                                    False   \n",
       "\n",
       "                                                              74434  \\\n",
       "user_name                                                     M0ser   \n",
       "user_location                                                   NaN   \n",
       "user_description  Reagan conservative and attorney raised in the...   \n",
       "user_created                                    2014-02-18 03:46:28   \n",
       "user_followers                                                 2554   \n",
       "user_friends                                                   1733   \n",
       "user_favourites                                              129104   \n",
       "user_verified                                                 False   \n",
       "date                                            2020-08-04 03:13:19   \n",
       "text              If only we had a responsible media to warn us ...   \n",
       "hashtags                                                ['COVID19']   \n",
       "source                                           Twitter for iPhone   \n",
       "is_retweet                                                    False   \n",
       "\n",
       "                                                              74435  \n",
       "user_name                                    Your Friend & Sabre ⚔️  \n",
       "user_location                                           Chicago, IL  \n",
       "user_description  My spectral decomposition has a significant da...  \n",
       "user_created                                    2016-12-19 19:55:00  \n",
       "user_followers                                                  310  \n",
       "user_friends                                                   1748  \n",
       "user_favourites                                               60133  \n",
       "user_verified                                                 False  \n",
       "date                                            2020-08-04 03:13:15  \n",
       "text              MAGA: #COVID19 is just a cold &amp; it'd be go...  \n",
       "hashtags                         ['COVID19', 'Hydroxycholoroquine']  \n",
       "source                                          Twitter for Android  \n",
       "is_retweet                                                    False  \n",
       "\n",
       "[13 rows x 74436 columns]"
      ]
     },
     "execution_count": 35,
     "metadata": {},
     "output_type": "execute_result"
    }
   ],
   "source": [
    "df2.T"
   ]
  },
  {
   "cell_type": "code",
   "execution_count": 37,
   "metadata": {
    "colab": {
     "base_uri": "https://localhost:8080/",
     "height": 424
    },
    "id": "NV2B4H0KTCJC",
    "outputId": "3b04f1f0-44b7-47f3-87a7-40cd2d4f590d"
   },
   "outputs": [
    {
     "data": {
      "text/html": [
       "<div>\n",
       "<style scoped>\n",
       "    .dataframe tbody tr th:only-of-type {\n",
       "        vertical-align: middle;\n",
       "    }\n",
       "\n",
       "    .dataframe tbody tr th {\n",
       "        vertical-align: top;\n",
       "    }\n",
       "\n",
       "    .dataframe thead th {\n",
       "        text-align: right;\n",
       "    }\n",
       "</style>\n",
       "<table border=\"1\" class=\"dataframe\">\n",
       "  <thead>\n",
       "    <tr style=\"text-align: right;\">\n",
       "      <th></th>\n",
       "      <th>user_name</th>\n",
       "      <th>user_location</th>\n",
       "      <th>user_description</th>\n",
       "      <th>user_created</th>\n",
       "      <th>user_followers</th>\n",
       "      <th>user_friends</th>\n",
       "      <th>user_favourites</th>\n",
       "      <th>user_verified</th>\n",
       "      <th>date</th>\n",
       "      <th>text</th>\n",
       "      <th>hashtags</th>\n",
       "      <th>source</th>\n",
       "      <th>is_retweet</th>\n",
       "    </tr>\n",
       "  </thead>\n",
       "  <tbody>\n",
       "    <tr>\n",
       "      <th>14504</th>\n",
       "      <td>Chelsea Anderson.♥️</td>\n",
       "      <td>South Dakota, USA</td>\n",
       "      <td>Activist, photography, reading, drawing, and s...</td>\n",
       "      <td>2013-03-06 04:11:45</td>\n",
       "      <td>22864</td>\n",
       "      <td>22900</td>\n",
       "      <td>2047197</td>\n",
       "      <td>False</td>\n",
       "      <td>2020-07-25 01:44:18</td>\n",
       "      <td>So Trump wants everyone else's child to get #C...</td>\n",
       "      <td>['COVID19']</td>\n",
       "      <td>Twitter for Android</td>\n",
       "      <td>False</td>\n",
       "    </tr>\n",
       "    <tr>\n",
       "      <th>71764</th>\n",
       "      <td>paolo ignazio marong</td>\n",
       "      <td>NaN</td>\n",
       "      <td>libero professionista, analista sereno navigat...</td>\n",
       "      <td>2013-04-10 09:29:25</td>\n",
       "      <td>87559</td>\n",
       "      <td>93252</td>\n",
       "      <td>1154435</td>\n",
       "      <td>False</td>\n",
       "      <td>2020-08-04 05:01:25</td>\n",
       "      <td>Misure restrittive estese ma numeri sotto cont...</td>\n",
       "      <td>['covid19']</td>\n",
       "      <td>Twitter Web App</td>\n",
       "      <td>False</td>\n",
       "    </tr>\n",
       "    <tr>\n",
       "      <th>69943</th>\n",
       "      <td>paolo ignazio marong</td>\n",
       "      <td>NaN</td>\n",
       "      <td>libero professionista, analista sereno navigat...</td>\n",
       "      <td>2013-04-10 09:29:25</td>\n",
       "      <td>87559</td>\n",
       "      <td>93252</td>\n",
       "      <td>1154435</td>\n",
       "      <td>False</td>\n",
       "      <td>2020-08-04 06:20:21</td>\n",
       "      <td>Resistenza anche violenta alle misure del #loc...</td>\n",
       "      <td>['lockdown', 'Covid19', 'Melbourne']</td>\n",
       "      <td>Twitter for Android</td>\n",
       "      <td>False</td>\n",
       "    </tr>\n",
       "    <tr>\n",
       "      <th>70610</th>\n",
       "      <td>paolo ignazio marong</td>\n",
       "      <td>NaN</td>\n",
       "      <td>libero professionista, analista sereno navigat...</td>\n",
       "      <td>2013-04-10 09:29:25</td>\n",
       "      <td>87559</td>\n",
       "      <td>93252</td>\n",
       "      <td>1154435</td>\n",
       "      <td>False</td>\n",
       "      <td>2020-08-04 05:52:55</td>\n",
       "      <td>Era il 29 marzo scorso #Covid19 #USA #Fauci Es...</td>\n",
       "      <td>['Covid19', 'USA', 'Fauci']</td>\n",
       "      <td>Twitter Web App</td>\n",
       "      <td>False</td>\n",
       "    </tr>\n",
       "    <tr>\n",
       "      <th>62200</th>\n",
       "      <td>paolo ignazio marong</td>\n",
       "      <td>NaN</td>\n",
       "      <td>libero professionista, analista sereno navigat...</td>\n",
       "      <td>2013-04-10 09:29:25</td>\n",
       "      <td>87568</td>\n",
       "      <td>93275</td>\n",
       "      <td>1154019</td>\n",
       "      <td>False</td>\n",
       "      <td>2020-08-02 19:51:22</td>\n",
       "      <td>L'area della grande #Manchester sotto osservaz...</td>\n",
       "      <td>['Manchester', 'covid19']</td>\n",
       "      <td>Twitter Web App</td>\n",
       "      <td>False</td>\n",
       "    </tr>\n",
       "    <tr>\n",
       "      <th>...</th>\n",
       "      <td>...</td>\n",
       "      <td>...</td>\n",
       "      <td>...</td>\n",
       "      <td>...</td>\n",
       "      <td>...</td>\n",
       "      <td>...</td>\n",
       "      <td>...</td>\n",
       "      <td>...</td>\n",
       "      <td>...</td>\n",
       "      <td>...</td>\n",
       "      <td>...</td>\n",
       "      <td>...</td>\n",
       "      <td>...</td>\n",
       "    </tr>\n",
       "    <tr>\n",
       "      <th>28803</th>\n",
       "      <td>Days since the covid-19</td>\n",
       "      <td>NaN</td>\n",
       "      <td>Days since the #covid19 ruined your life</td>\n",
       "      <td>2020-05-16 00:20:46</td>\n",
       "      <td>0</td>\n",
       "      <td>0</td>\n",
       "      <td>0</td>\n",
       "      <td>False</td>\n",
       "      <td>2020-07-27 04:21:38</td>\n",
       "      <td>240 #days since the #Covid19 ruined your life\\...</td>\n",
       "      <td>['days', 'Covid19', 'coronavirus', 'quarentine...</td>\n",
       "      <td>Twitter for Android</td>\n",
       "      <td>False</td>\n",
       "    </tr>\n",
       "    <tr>\n",
       "      <th>9664</th>\n",
       "      <td>SRV Mamata Hospital</td>\n",
       "      <td>Kalyan Dombivali, India</td>\n",
       "      <td>Dombivali's 1st Tertiary Care Hospital</td>\n",
       "      <td>2018-07-25 09:54:35</td>\n",
       "      <td>12</td>\n",
       "      <td>6</td>\n",
       "      <td>0</td>\n",
       "      <td>False</td>\n",
       "      <td>2020-07-25 05:59:33</td>\n",
       "      <td>Special vote of thanks to our dedicated and ha...</td>\n",
       "      <td>NaN</td>\n",
       "      <td>Twitter Web App</td>\n",
       "      <td>False</td>\n",
       "    </tr>\n",
       "    <tr>\n",
       "      <th>56576</th>\n",
       "      <td>Peter James Italia, MD</td>\n",
       "      <td>Rutland, VT</td>\n",
       "      <td>Doctor, author, med/surg training, exposed mis...</td>\n",
       "      <td>2018-04-07 15:10:28</td>\n",
       "      <td>9</td>\n",
       "      <td>0</td>\n",
       "      <td>0</td>\n",
       "      <td>False</td>\n",
       "      <td>2020-08-01 16:58:57</td>\n",
       "      <td>Amputation was only 2 days away. I healed foot...</td>\n",
       "      <td>NaN</td>\n",
       "      <td>Twitter Web App</td>\n",
       "      <td>False</td>\n",
       "    </tr>\n",
       "    <tr>\n",
       "      <th>16472</th>\n",
       "      <td>Isolation Bot</td>\n",
       "      <td>NaN</td>\n",
       "      <td>Feeling isolated? I’m here to help! 🌿 #COVID19...</td>\n",
       "      <td>2020-03-22 02:56:00</td>\n",
       "      <td>159</td>\n",
       "      <td>2</td>\n",
       "      <td>0</td>\n",
       "      <td>False</td>\n",
       "      <td>2020-07-25 00:15:38</td>\n",
       "      <td>Times are tough but that doesn't mean you aren...</td>\n",
       "      <td>NaN</td>\n",
       "      <td>Cheap Bots, Done Quick!</td>\n",
       "      <td>False</td>\n",
       "    </tr>\n",
       "    <tr>\n",
       "      <th>31957</th>\n",
       "      <td>Patriotic Buff</td>\n",
       "      <td>NaN</td>\n",
       "      <td>American patriot. Trying to survive this seaso...</td>\n",
       "      <td>2020-07-21 06:58:48</td>\n",
       "      <td>0</td>\n",
       "      <td>20</td>\n",
       "      <td>0</td>\n",
       "      <td>False</td>\n",
       "      <td>2020-07-27 01:42:33</td>\n",
       "      <td>@espn @nyliberty @seattlestorm The #COVID19 pa...</td>\n",
       "      <td>['COVID19', 'EconomicShutdown']</td>\n",
       "      <td>Twitter for iPhone</td>\n",
       "      <td>False</td>\n",
       "    </tr>\n",
       "  </tbody>\n",
       "</table>\n",
       "<p>74436 rows × 13 columns</p>\n",
       "</div>"
      ],
      "text/plain": [
       "                     user_name            user_location  \\\n",
       "14504      Chelsea Anderson.♥️        South Dakota, USA   \n",
       "71764     paolo ignazio marong                      NaN   \n",
       "69943     paolo ignazio marong                      NaN   \n",
       "70610     paolo ignazio marong                      NaN   \n",
       "62200     paolo ignazio marong                      NaN   \n",
       "...                        ...                      ...   \n",
       "28803  Days since the covid-19                      NaN   \n",
       "9664       SRV Mamata Hospital  Kalyan Dombivali, India   \n",
       "56576   Peter James Italia, MD              Rutland, VT   \n",
       "16472            Isolation Bot                      NaN   \n",
       "31957           Patriotic Buff                      NaN   \n",
       "\n",
       "                                        user_description         user_created  \\\n",
       "14504  Activist, photography, reading, drawing, and s...  2013-03-06 04:11:45   \n",
       "71764  libero professionista, analista sereno navigat...  2013-04-10 09:29:25   \n",
       "69943  libero professionista, analista sereno navigat...  2013-04-10 09:29:25   \n",
       "70610  libero professionista, analista sereno navigat...  2013-04-10 09:29:25   \n",
       "62200  libero professionista, analista sereno navigat...  2013-04-10 09:29:25   \n",
       "...                                                  ...                  ...   \n",
       "28803           Days since the #covid19 ruined your life  2020-05-16 00:20:46   \n",
       "9664              Dombivali's 1st Tertiary Care Hospital  2018-07-25 09:54:35   \n",
       "56576  Doctor, author, med/surg training, exposed mis...  2018-04-07 15:10:28   \n",
       "16472  Feeling isolated? I’m here to help! 🌿 #COVID19...  2020-03-22 02:56:00   \n",
       "31957  American patriot. Trying to survive this seaso...  2020-07-21 06:58:48   \n",
       "\n",
       "       user_followers  user_friends  user_favourites  user_verified  \\\n",
       "14504           22864         22900          2047197          False   \n",
       "71764           87559         93252          1154435          False   \n",
       "69943           87559         93252          1154435          False   \n",
       "70610           87559         93252          1154435          False   \n",
       "62200           87568         93275          1154019          False   \n",
       "...               ...           ...              ...            ...   \n",
       "28803               0             0                0          False   \n",
       "9664               12             6                0          False   \n",
       "56576               9             0                0          False   \n",
       "16472             159             2                0          False   \n",
       "31957               0            20                0          False   \n",
       "\n",
       "                      date                                               text  \\\n",
       "14504  2020-07-25 01:44:18  So Trump wants everyone else's child to get #C...   \n",
       "71764  2020-08-04 05:01:25  Misure restrittive estese ma numeri sotto cont...   \n",
       "69943  2020-08-04 06:20:21  Resistenza anche violenta alle misure del #loc...   \n",
       "70610  2020-08-04 05:52:55  Era il 29 marzo scorso #Covid19 #USA #Fauci Es...   \n",
       "62200  2020-08-02 19:51:22  L'area della grande #Manchester sotto osservaz...   \n",
       "...                    ...                                                ...   \n",
       "28803  2020-07-27 04:21:38  240 #days since the #Covid19 ruined your life\\...   \n",
       "9664   2020-07-25 05:59:33  Special vote of thanks to our dedicated and ha...   \n",
       "56576  2020-08-01 16:58:57  Amputation was only 2 days away. I healed foot...   \n",
       "16472  2020-07-25 00:15:38  Times are tough but that doesn't mean you aren...   \n",
       "31957  2020-07-27 01:42:33  @espn @nyliberty @seattlestorm The #COVID19 pa...   \n",
       "\n",
       "                                                hashtags  \\\n",
       "14504                                        ['COVID19']   \n",
       "71764                                        ['covid19']   \n",
       "69943               ['lockdown', 'Covid19', 'Melbourne']   \n",
       "70610                        ['Covid19', 'USA', 'Fauci']   \n",
       "62200                          ['Manchester', 'covid19']   \n",
       "...                                                  ...   \n",
       "28803  ['days', 'Covid19', 'coronavirus', 'quarentine...   \n",
       "9664                                                 NaN   \n",
       "56576                                                NaN   \n",
       "16472                                                NaN   \n",
       "31957                    ['COVID19', 'EconomicShutdown']   \n",
       "\n",
       "                        source  is_retweet  \n",
       "14504      Twitter for Android       False  \n",
       "71764          Twitter Web App       False  \n",
       "69943      Twitter for Android       False  \n",
       "70610          Twitter Web App       False  \n",
       "62200          Twitter Web App       False  \n",
       "...                        ...         ...  \n",
       "28803      Twitter for Android       False  \n",
       "9664           Twitter Web App       False  \n",
       "56576          Twitter Web App       False  \n",
       "16472  Cheap Bots, Done Quick!       False  \n",
       "31957       Twitter for iPhone       False  \n",
       "\n",
       "[74436 rows x 13 columns]"
      ]
     },
     "execution_count": 37,
     "metadata": {},
     "output_type": "execute_result"
    }
   ],
   "source": [
    "df2.sort_values(\"user_favourites\",ascending=False)"
   ]
  },
  {
   "cell_type": "code",
   "execution_count": 38,
   "metadata": {
    "colab": {
     "base_uri": "https://localhost:8080/",
     "height": 775
    },
    "id": "RqVT-MKUWwwp",
    "outputId": "ec5c7385-0676-4455-928e-3fbef5bdd174"
   },
   "outputs": [
    {
     "data": {
      "image/png": "[encoded data removed]",
      "text/plain": [
       "<Figure size 1000x700 with 1 Axes>"
      ]
     },
     "metadata": {},
     "output_type": "display_data"
    }
   ],
   "source": [
    "import matplotlib.pyplot as plt\n",
    "col1=df2[\"user_followers\"]\n",
    "col2=df2[\"user_friends\"]\n",
    "col3=df2[\"user_favourites\"]\n",
    "datos=[col1,col2,col3]\n",
    "fig=plt.figure(figsize=(10,7))\n",
    "ax=fig.add_axes([0,0,1,1])\n",
    "bp=ax.boxplot(datos)\n",
    "plt.show()"
   ]
  },
  {
   "cell_type": "markdown",
   "metadata": {
    "id": "0oxLTJgdxGf-"
   },
   "source": [
    "# 3- Estadística descriptiva\n",
    "\n",
    "## 3.1- Media, mediana y desviación estándar\n",
    "\n",
    "### La media aritmética es el valor obtenido por la suma de todos sus valores dividida entre el número de sumadores, también conocida como promedio.\n",
    "\n",
    "### La mediana es un valor de la variable que deja por debajo de sí a la mitad de los datos, una vez que éstos están ordenados de menor a mayor.\n",
    "\n",
    "### La desviación estándar es una medida de extensión o variabilidad en la estadística descriptiva. Se utiliza para calcular la variación o dispersión en la que los puntos de datos individuales difieren de la media."
   ]
  },
  {
   "cell_type": "markdown",
   "metadata": {
    "id": "loUTpALb306O"
   },
   "source": [
    "## Obtención de la información de \"User_Followers\"\n"
   ]
  },
  {
   "cell_type": "code",
   "execution_count": 6,
   "metadata": {
    "colab": {
     "base_uri": "https://localhost:8080/"
    },
    "id": "C_O4V_F8386w",
    "outputId": "3a00253a-bb1b-48a1-cff0-7f839d6c68b2"
   },
   "outputs": [
    {
     "name": "stdout",
     "output_type": "stream",
     "text": [
      "Promedio: 105951.31291310657\n"
     ]
    }
   ],
   "source": [
    "import numpy as np\n",
    "\n",
    "datos = df2[\"user_followers\"]\n",
    "\n",
    "\n",
    "promedio = np.average(datos)\n",
    "\n",
    "print(\"Promedio:\", promedio)"
   ]
  },
  {
   "cell_type": "code",
   "execution_count": 45,
   "metadata": {
    "colab": {
     "base_uri": "https://localhost:8080/"
    },
    "id": "C_O4V_F8386w",
    "outputId": "3a00253a-bb1b-48a1-cff0-7f839d6c68b2"
   },
   "outputs": [
    {
     "name": "stdout",
     "output_type": "stream",
     "text": [
      "Mediana: 960.0\n"
     ]
    }
   ],
   "source": [
    "datos = df2[\"user_followers\"]\n",
    "\n",
    "\n",
    "mediana = np.median(datos)\n",
    "\n",
    "print(\"Mediana:\", mediana)"
   ]
  },
  {
   "cell_type": "code",
   "execution_count": 46,
   "metadata": {},
   "outputs": [
    {
     "name": "stdout",
     "output_type": "stream",
     "text": [
      "Desviación estandar:  822284.4620050807\n"
     ]
    }
   ],
   "source": [
    "datos = df2[\"user_followers\"]\n",
    "\n",
    "\n",
    "desviacion = np.std(datos)\n",
    "\n",
    "print(\"Desviación estandar: \", desviacion)"
   ]
  },
  {
   "cell_type": "markdown",
   "metadata": {},
   "source": [
    "## Obtención de la información de \"user_friends\""
   ]
  },
  {
   "cell_type": "code",
   "execution_count": 7,
   "metadata": {
    "colab": {
     "base_uri": "https://localhost:8080/"
    },
    "id": "C_O4V_F8386w",
    "outputId": "3a00253a-bb1b-48a1-cff0-7f839d6c68b2"
   },
   "outputs": [
    {
     "name": "stdout",
     "output_type": "stream",
     "text": [
      "Promedio: 2154.7211698640444\n"
     ]
    }
   ],
   "source": [
    "datos = df2[\"user_friends\"]\n",
    "\n",
    "\n",
    "promedio = np.average(datos)\n",
    "\n",
    "print(\"Promedio:\", promedio)"
   ]
  },
  {
   "cell_type": "code",
   "execution_count": 9,
   "metadata": {},
   "outputs": [
    {
     "name": "stdout",
     "output_type": "stream",
     "text": [
      "Mediana: 552.0\n"
     ]
    }
   ],
   "source": [
    "datos = df2[\"user_friends\"]\n",
    "\n",
    "\n",
    "mediana = np.median(datos)\n",
    "\n",
    "print(\"Mediana:\", mediana)"
   ]
  },
  {
   "cell_type": "code",
   "execution_count": 14,
   "metadata": {},
   "outputs": [
    {
     "name": "stdout",
     "output_type": "stream",
     "text": [
      "Desviación estandar:  9365.524563197956\n"
     ]
    }
   ],
   "source": [
    "datos = df2[\"user_friends\"]\n",
    "\n",
    "\n",
    "desviacion = np.std(datos)\n",
    "\n",
    "print(\"Desviación estandar: \", desviacion)"
   ]
  },
  {
   "cell_type": "markdown",
   "metadata": {},
   "source": [
    "## Obtención de la información de \"user_favourites\""
   ]
  },
  {
   "cell_type": "code",
   "execution_count": 11,
   "metadata": {},
   "outputs": [
    {
     "name": "stdout",
     "output_type": "stream",
     "text": [
      "Promedio: 15297.472029663066\n"
     ]
    }
   ],
   "source": [
    "datos = df2[\"user_favourites\"]\n",
    "\n",
    "\n",
    "promedio = np.average(datos)\n",
    "\n",
    "print(\"Promedio:\", promedio)"
   ]
  },
  {
   "cell_type": "code",
   "execution_count": 12,
   "metadata": {},
   "outputs": [
    {
     "name": "stdout",
     "output_type": "stream",
     "text": [
      "Mediana: 1927.0\n"
     ]
    }
   ],
   "source": [
    "datos = df2[\"user_favourites\"]\n",
    "\n",
    "\n",
    "mediana = np.median(datos)\n",
    "\n",
    "print(\"Mediana:\", mediana)"
   ]
  },
  {
   "cell_type": "code",
   "execution_count": 13,
   "metadata": {},
   "outputs": [
    {
     "name": "stdout",
     "output_type": "stream",
     "text": [
      "Desviación estandar:  46689.400666605405\n"
     ]
    }
   ],
   "source": [
    "datos = df2[\"user_favourites\"]\n",
    "\n",
    "\n",
    "desviacion = np.std(datos)\n",
    "\n",
    "print(\"Desviación estandar: \", desviacion)"
   ]
  },
  {
   "cell_type": "code",
   "execution_count": 12,
   "metadata": {},
   "outputs": [
    {
     "data": {
      "text/plain": [
       "<matplotlib.collections.PathCollection at 0x1adbed4fe80>"
      ]
     },
     "execution_count": 12,
     "metadata": {},
     "output_type": "execute_result"
    },
    {
     "data": {
      "image/png": "[encoded data removed]",
      "text/plain": [
       "<Figure size 640x480 with 1 Axes>"
      ]
     },
     "metadata": {},
     "output_type": "display_data"
    }
   ],
   "source": [
    "var=[]\n",
    "for j in range(len(df2[\"user_followers\"])):\n",
    "  var.append([df2[\"user_followers\"][j],df2[\"user_friends\"][j]])\n",
    "\n",
    "\n",
    "var2=np.array(var)\n",
    "plt.scatter(var2[:,0],var2[:,1])"
   ]
  },
  {
   "cell_type": "code",
   "execution_count": 36,
   "metadata": {},
   "outputs": [
    {
     "name": "stderr",
     "output_type": "stream",
     "text": [
      "C:\\Users\\pabce\\AppData\\Local\\Programs\\Python\\Python310\\lib\\site-packages\\sklearn\\cluster\\_kmeans.py:1412: FutureWarning: The default value of `n_init` will change from 10 to 'auto' in 1.4. Set the value of `n_init` explicitly to suppress the warning\n",
      "  super()._check_params_vs_input(X, default_n_init=10)\n"
     ]
    },
    {
     "data": {
      "text/html": [
       "<style>#sk-container-id-9 {color: black;}#sk-container-id-9 pre{padding: 0;}#sk-container-id-9 div.sk-toggleable {background-color: white;}#sk-container-id-9 label.sk-toggleable__label {cursor: pointer;display: block;width: 100%;margin-bottom: 0;padding: 0.3em;box-sizing: border-box;text-align: center;}#sk-container-id-9 label.sk-toggleable__label-arrow:before {content: \"▸\";float: left;margin-right: 0.25em;color: #696969;}#sk-container-id-9 label.sk-toggleable__label-arrow:hover:before {color: black;}#sk-container-id-9 div.sk-estimator:hover label.sk-toggleable__label-arrow:before {color: black;}#sk-container-id-9 div.sk-toggleable__content {max-height: 0;max-width: 0;overflow: hidden;text-align: left;background-color: #f0f8ff;}#sk-container-id-9 div.sk-toggleable__content pre {margin: 0.2em;color: black;border-radius: 0.25em;background-color: #f0f8ff;}#sk-container-id-9 input.sk-toggleable__control:checked~div.sk-toggleable__content {max-height: 200px;max-width: 100%;overflow: auto;}#sk-container-id-9 input.sk-toggleable__control:checked~label.sk-toggleable__label-arrow:before {content: \"▾\";}#sk-container-id-9 div.sk-estimator input.sk-toggleable__control:checked~label.sk-toggleable__label {background-color: #d4ebff;}#sk-container-id-9 div.sk-label input.sk-toggleable__control:checked~label.sk-toggleable__label {background-color: #d4ebff;}#sk-container-id-9 input.sk-hidden--visually {border: 0;clip: rect(1px 1px 1px 1px);clip: rect(1px, 1px, 1px, 1px);height: 1px;margin: -1px;overflow: hidden;padding: 0;position: absolute;width: 1px;}#sk-container-id-9 div.sk-estimator {font-family: monospace;background-color: #f0f8ff;border: 1px dotted black;border-radius: 0.25em;box-sizing: border-box;margin-bottom: 0.5em;}#sk-container-id-9 div.sk-estimator:hover {background-color: #d4ebff;}#sk-container-id-9 div.sk-parallel-item::after {content: \"\";width: 100%;border-bottom: 1px solid gray;flex-grow: 1;}#sk-container-id-9 div.sk-label:hover label.sk-toggleable__label {background-color: #d4ebff;}#sk-container-id-9 div.sk-serial::before {content: \"\";position: absolute;border-left: 1px solid gray;box-sizing: border-box;top: 0;bottom: 0;left: 50%;z-index: 0;}#sk-container-id-9 div.sk-serial {display: flex;flex-direction: column;align-items: center;background-color: white;padding-right: 0.2em;padding-left: 0.2em;position: relative;}#sk-container-id-9 div.sk-item {position: relative;z-index: 1;}#sk-container-id-9 div.sk-parallel {display: flex;align-items: stretch;justify-content: center;background-color: white;position: relative;}#sk-container-id-9 div.sk-item::before, #sk-container-id-9 div.sk-parallel-item::before {content: \"\";position: absolute;border-left: 1px solid gray;box-sizing: border-box;top: 0;bottom: 0;left: 50%;z-index: -1;}#sk-container-id-9 div.sk-parallel-item {display: flex;flex-direction: column;z-index: 1;position: relative;background-color: white;}#sk-container-id-9 div.sk-parallel-item:first-child::after {align-self: flex-end;width: 50%;}#sk-container-id-9 div.sk-parallel-item:last-child::after {align-self: flex-start;width: 50%;}#sk-container-id-9 div.sk-parallel-item:only-child::after {width: 0;}#sk-container-id-9 div.sk-dashed-wrapped {border: 1px dashed gray;margin: 0 0.4em 0.5em 0.4em;box-sizing: border-box;padding-bottom: 0.4em;background-color: white;}#sk-container-id-9 div.sk-label label {font-family: monospace;font-weight: bold;display: inline-block;line-height: 1.2em;}#sk-container-id-9 div.sk-label-container {text-align: center;}#sk-container-id-9 div.sk-container {/* jupyter's `normalize.less` sets `[hidden] { display: none; }` but bootstrap.min.css set `[hidden] { display: none !important; }` so we also need the `!important` here to be able to override the default hidden behavior on the sphinx rendered scikit-learn.org. See: https://github.com/scikit-learn/scikit-learn/issues/21755 */display: inline-block !important;position: relative;}#sk-container-id-9 div.sk-text-repr-fallback {display: none;}</style><div id=\"sk-container-id-9\" class=\"sk-top-container\"><div class=\"sk-text-repr-fallback\"><pre>KMeans(n_clusters=2)</pre><b>In a Jupyter environment, please rerun this cell to show the HTML representation or trust the notebook. <br />On GitHub, the HTML representation is unable to render, please try loading this page with nbviewer.org.</b></div><div class=\"sk-container\" hidden><div class=\"sk-item\"><div class=\"sk-estimator sk-toggleable\"><input class=\"sk-toggleable__control sk-hidden--visually\" id=\"sk-estimator-id-9\" type=\"checkbox\" checked><label for=\"sk-estimator-id-9\" class=\"sk-toggleable__label sk-toggleable__label-arrow\">KMeans</label><div class=\"sk-toggleable__content\"><pre>KMeans(n_clusters=2)</pre></div></div></div></div></div>"
      ],
      "text/plain": [
       "KMeans(n_clusters=2)"
      ]
     },
     "execution_count": 36,
     "metadata": {},
     "output_type": "execute_result"
    }
   ],
   "source": [
    "n = 2\n",
    "k_means = KMeans(n_clusters=n)\n",
    "k_means.fit(var2)\n"
   ]
  },
  {
   "cell_type": "code",
   "execution_count": 55,
   "metadata": {},
   "outputs": [
    {
     "data": {
      "text/plain": [
       "[7829749.2202216545, 1531.9802591982373]"
      ]
     },
     "execution_count": 55,
     "metadata": {},
     "output_type": "execute_result"
    }
   ],
   "source": [
    "centroides = k_means.cluster_centers_\n",
    "etiquetas = k_means.labels_\n",
    "distanciaX = centroides[1][0] - centroides[0][0]\n",
    "distanciaY = centroides[0][1] - centroides[1][1]\n",
    "distanciaT = [distanciaX, distanciaY]\n",
    "distanciaT"
   ]
  },
  {
   "cell_type": "code",
   "execution_count": 38,
   "metadata": {},
   "outputs": [
    {
     "data": {
      "image/png": "[encoded data removed]",
      "text/plain": [
       "<Figure size 640x480 with 1 Axes>"
      ]
     },
     "metadata": {},
     "output_type": "display_data"
    }
   ],
   "source": [
    "plt.plot(var2[etiquetas==0,0],var2[etiquetas==0,1],'r.', label='cluster 1')\n",
    "plt.plot(var2[etiquetas==1,0],var2[etiquetas==1,1],'b.', label='cluster 2')\n",
    "\n",
    "plt.plot(centroides[:,0],centroides[:,1],'mo',markersize=8, label='centroides')\n",
    "\n",
    "plt.legend(loc='best')import seaborn as sns"
   ]
  },
  {
   "cell_type": "markdown",
   "metadata": {},
   "source": [
    "## Diagramas de cajas y bigotes"
   ]
  },
  {
   "cell_type": "code",
   "execution_count": 6,
   "metadata": {},
   "outputs": [
    {
     "data": {
      "text/plain": [
       "<Axes: >"
      ]
     },
     "execution_count": 6,
     "metadata": {},
     "output_type": "execute_result"
    },
    {
     "data": {
      "image/png": "[encoded data removed]",
      "text/plain": [
       "<Figure size 640x480 with 1 Axes>"
      ]
     },
     "metadata": {},
     "output_type": "display_data"
    }
   ],
   "source": [
    "import seaborn as sns\n",
    "sns.boxplot(data=df2[\"user_followers\"], showfliers=False)"
   ]
  },
  {
   "cell_type": "code",
   "execution_count": 7,
   "metadata": {},
   "outputs": [
    {
     "data": {
      "text/plain": [
       "<Axes: >"
      ]
     },
     "execution_count": 7,
     "metadata": {},
     "output_type": "execute_result"
    },
    {
     "data": {
      "image/png": "[encoded data removed]",
      "text/plain": [
       "<Figure size 640x480 with 1 Axes>"
      ]
     },
     "metadata": {},
     "output_type": "display_data"
    }
   ],
   "source": [
    "import seaborn as sns\n",
    "sns.boxplot(data=df2[\"user_friends\"], showfliers=False)"
   ]
  },
  {
   "cell_type": "code",
   "execution_count": 8,
   "metadata": {},
   "outputs": [
    {
     "data": {
      "text/plain": [
       "<Axes: >"
      ]
     },
     "execution_count": 8,
     "metadata": {},
     "output_type": "execute_result"
    },
    {
     "data": {
      "image/png": "[encoded data removed]",
      "text/plain": [
       "<Figure size 640x480 with 1 Axes>"
      ]
     },
     "metadata": {},
     "output_type": "display_data"
    }
   ],
   "source": [
    "import seaborn as sns\n",
    "sns.boxplot(data=df2[\"user_favourites\"], showfliers=False)"
   ]
  },
  {
   "cell_type": "markdown",
   "metadata": {},
   "source": [
    "## Histogramas"
   ]
  },
  {
   "cell_type": "code",
   "execution_count": 9,
   "metadata": {},
   "outputs": [
    {
     "data": {
      "image/png": "[encoded data removed]",
      "text/plain": [
       "<Figure size 640x480 with 1 Axes>"
      ]
     },
     "metadata": {},
     "output_type": "display_data"
    }
   ],
   "source": [
    "fig, ax = plt.subplots()\n",
    "ax.hist(df2[\"user_followers\"])\n",
    "plt.show()"
   ]
  },
  {
   "cell_type": "code",
   "execution_count": 10,
   "metadata": {},
   "outputs": [
    {
     "data": {
      "image/png": "[encoded data removed]",
      "text/plain": [
       "<Figure size 640x480 with 1 Axes>"
      ]
     },
     "metadata": {},
     "output_type": "display_data"
    }
   ],
   "source": [
    "fig, ax = plt.subplots()\n",
    "ax.hist(df2[\"user_friends\"])\n",
    "plt.show()"
   ]
  },
  {
   "cell_type": "code",
   "execution_count": 12,
   "metadata": {},
   "outputs": [
    {
     "data": {
      "image/png": "[encoded data removed]",
      "text/plain": [
       "<Figure size 640x480 with 1 Axes>"
      ]
     },
     "metadata": {},
     "output_type": "display_data"
    }
   ],
   "source": [
    "fig, ax = plt.subplots()\n",
    "ax.hist(df2[\"user_favourites\"])\n",
    "plt.show()"
   ]
  },
  {
   "cell_type": "markdown",
   "metadata": {},
   "source": [
    "## Correlación"
   ]
  },
  {
   "cell_type": "code",
   "execution_count": 34,
   "metadata": {},
   "outputs": [
    {
     "data": {
      "text/html": [
       "<div>\n",
       "<style scoped>\n",
       "    .dataframe tbody tr th:only-of-type {\n",
       "        vertical-align: middle;\n",
       "    }\n",
       "\n",
       "    .dataframe tbody tr th {\n",
       "        vertical-align: top;\n",
       "    }\n",
       "\n",
       "    .dataframe thead th {\n",
       "        text-align: right;\n",
       "    }\n",
       "</style>\n",
       "<table border=\"1\" class=\"dataframe\">\n",
       "  <thead>\n",
       "    <tr style=\"text-align: right;\">\n",
       "      <th></th>\n",
       "      <th>user_followers</th>\n",
       "      <th>user_friends</th>\n",
       "      <th>user_favourites</th>\n",
       "      <th>user_verified</th>\n",
       "    </tr>\n",
       "  </thead>\n",
       "  <tbody>\n",
       "    <tr>\n",
       "      <th>user_followers</th>\n",
       "      <td>1.000000</td>\n",
       "      <td>-0.002722</td>\n",
       "      <td>-0.028724</td>\n",
       "      <td>0.322896</td>\n",
       "    </tr>\n",
       "    <tr>\n",
       "      <th>user_friends</th>\n",
       "      <td>-0.002722</td>\n",
       "      <td>1.000000</td>\n",
       "      <td>0.207825</td>\n",
       "      <td>0.013099</td>\n",
       "    </tr>\n",
       "    <tr>\n",
       "      <th>user_favourites</th>\n",
       "      <td>-0.028724</td>\n",
       "      <td>0.207825</td>\n",
       "      <td>1.000000</td>\n",
       "      <td>-0.060316</td>\n",
       "    </tr>\n",
       "    <tr>\n",
       "      <th>user_verified</th>\n",
       "      <td>0.322896</td>\n",
       "      <td>0.013099</td>\n",
       "      <td>-0.060316</td>\n",
       "      <td>1.000000</td>\n",
       "    </tr>\n",
       "  </tbody>\n",
       "</table>\n",
       "</div>"
      ],
      "text/plain": [
       "                 user_followers  user_friends  user_favourites  user_verified\n",
       "user_followers         1.000000     -0.002722        -0.028724       0.322896\n",
       "user_friends          -0.002722      1.000000         0.207825       0.013099\n",
       "user_favourites       -0.028724      0.207825         1.000000      -0.060316\n",
       "user_verified          0.322896      0.013099        -0.060316       1.000000"
      ]
     },
     "execution_count": 34,
     "metadata": {},
     "output_type": "execute_result"
    }
   ],
   "source": [
    "subset = df2[[\"user_followers\", \"user_friends\", \"user_favourites\", \"user_verified\"]]\n",
    "subset.corr()"
   ]
  },
  {
   "cell_type": "markdown",
   "metadata": {},
   "source": [
    "## Mapa de calor"
   ]
  },
  {
   "cell_type": "code",
   "execution_count": 32,
   "metadata": {},
   "outputs": [
    {
     "data": {
      "image/png": "[encoded data removed]",
      "text/plain": [
       "<Figure size 640x480 with 2 Axes>"
      ]
     },
     "metadata": {},
     "output_type": "display_data"
    }
   ],
   "source": [
    "sns.heatmap(subset.corr());"
   ]
  },
  {
   "cell_type": "markdown",
   "metadata": {},
   "source": [
    "## Respuestas\n",
    "\n",
    "1. En general todas las variables aportan información a la hora de analizarlas, pero considero que la variable que en este caso nos aporta menos información seria 'user_favourites'.\n",
    "2. Si tuviese que eliminar alguna variables en este caso seria la de 'user_favourites', ya que es la que precenta correlaciones menores con el resto de las variables.\n",
    "3. Las 3 variables que se estan cuantificando y analizando tienen cierta similaridad, y anque si bien no todas tienen correclación entre si, ninguna precenta algun patron raro que no se precente en las otras.\n",
    "4. Las 3 variables tienen en efecto tienen rangos similares, ya que existen pocas cuentas que tiene muchos seguidores, muchos amigos, y muchos favoritos en sus tweets, y en contraparte, muchas son las cuentas donde estas variables son muy bajas. Esto puede afectar a la hora de obtener resultados globales en donde la distribución de los resultados haga que estos no reflejen el panorama real para cada elemento.\n",
    "5. En este caso existen grupos donde las variables tienen valores muy altos, pero pocos ejemplares (cuentas), por otro lado, hay un amplio grupo donde hay ejenplares con valores muy bajos de las variables"
   ]
  }
 ],
 "metadata": {
  "colab": {
   "provenance": []
  },
  "kernelspec": {
   "display_name": "Python 3 (ipykernel)",
   "language": "python",
   "name": "python3"
  },
  "language_info": {
   "codemirror_mode": {
    "name": "ipython",
    "version": 3
   },
   "file_extension": ".py",
   "mimetype": "text/x-python",
   "name": "python",
   "nbconvert_exporter": "python",
   "pygments_lexer": "ipython3",
   "version": "3.10.7"
  }
 },
 "nbformat": 4,
 "nbformat_minor": 4
}
