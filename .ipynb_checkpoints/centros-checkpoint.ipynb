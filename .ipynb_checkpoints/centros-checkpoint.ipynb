{
 "cells": [
  {
   "cell_type": "code",
   "execution_count": 2,
   "id": "602c9c1d-a613-4f16-95c0-b41330b2da8a",
   "metadata": {},
   "outputs": [],
   "source": [
    "import pandas as pd\n",
    "import matplotlib.pyplot as plt\n",
    "import numpy as np\n",
    "from sklearn.cluster import KMeans\n",
    "import math "
   ]
  },
  {
   "cell_type": "code",
   "execution_count": 6,
   "id": "03392b96-e8c5-445d-bdbb-686c229af7bc",
   "metadata": {},
   "outputs": [
    {
     "name": "stdout",
     "output_type": "stream",
     "text": [
      "9.486832980505138\n"
     ]
    }
   ],
   "source": [
    "def euclidiano(vect1, vect2):\n",
    "    d = math.dist(vect1, vect2)\n",
    "    return d\n",
    "\n",
    "\"\"\"\n",
    "def main():\n",
    "    vect1 = [3, 3]\n",
    "    vect2 = [6, 12]\n",
    "    res = euclidiano(vect1, vect2)\n",
    "    print(res)\n",
    "\n",
    "main()\n",
    "\"\"\""
   ]
  },
  {
   "cell_type": "code",
   "execution_count": 19,
   "id": "a1c5ea7d-1347-46da-ada5-deaa0a3545a4",
   "metadata": {},
   "outputs": [
    {
     "name": "stdout",
     "output_type": "stream",
     "text": [
      "[[[3, 3], [9, 4], [5, 2], [8, 1]], [[3, 3], [9, 4], [5, 2], [8, 1]]]\n"
     ]
    }
   ],
   "source": [
    "def cercanos(puntos, centros):\n",
    "    listas = []\n",
    "    k = len(centros)\n",
    "    p = len(puntos)\n",
    "    for i in range(k):\n",
    "        listas.append([])\n",
    "    distancia = float('inf')\n",
    "    for i in range(k):\n",
    "        vectC = [centros[i][0], centros[i][1]]\n",
    "        for j in range(p):\n",
    "            vectP = [puntos[j][0], puntos[j][1]]\n",
    "            distancia1 = euclidiano(vectC, vectP)\n",
    "            if distancia1 < distancia:\n",
    "                listas[i].append(vectP)\n",
    "                distanica = distancia1\n",
    "            \n",
    "\n",
    "    print(listas)\n",
    "\n",
    "def main():\n",
    "    puntos = [[3, 3],[9, 4],[5, 2],[8,1]]\n",
    "    centros = [[4,7],[1,2]]\n",
    "    cercanos(puntos, centros)\n",
    "\n",
    "main()"
   ]
  },
  {
   "cell_type": "code",
   "execution_count": null,
   "id": "f8d42bc0-8d09-4bfd-8fa3-9f5cbb4aa8f2",
   "metadata": {},
   "outputs": [],
   "source": []
  }
 ],
 "metadata": {
  "kernelspec": {
   "display_name": "Python 3 (ipykernel)",
   "language": "python",
   "name": "python3"
  },
  "language_info": {
   "codemirror_mode": {
    "name": "ipython",
    "version": 3
   },
   "file_extension": ".py",
   "mimetype": "text/x-python",
   "name": "python",
   "nbconvert_exporter": "python",
   "pygments_lexer": "ipython3",
   "version": "3.10.7"
  }
 },
 "nbformat": 4,
 "nbformat_minor": 5
}
